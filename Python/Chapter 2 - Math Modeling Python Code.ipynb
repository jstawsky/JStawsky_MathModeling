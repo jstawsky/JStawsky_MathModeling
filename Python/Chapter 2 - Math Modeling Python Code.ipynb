{
 "cells": [
  {
   "cell_type": "markdown",
   "metadata": {
    "id": "BeCg6elH2FW8"
   },
   "source": [
    "# Introduction to Modern Mathematical Modeling: A User’s Manual to Train Mathematical Consultants\n",
    "<b> A Cambridge University Press book by Samuel S.P. Shen</b> \n",
    "\n",
    "<b>This textbook's code was edited and proofread by Joaquin Stawsky and Momtaza Sayd. Joaquin Stawsky created the cover photo for this version.</b>\n",
    "## Chapter 2: Basics of Python Programming"
   ]
  },
  {
   "cell_type": "markdown",
   "metadata": {},
   "source": [
    "### Part 2: Fun with Packages\n",
    "\n",
    "### Plotting with `MatPlotLib`"
   ]
  },
  {
   "cell_type": "markdown",
   "metadata": {
    "id": "rY-N09A22FXB"
   },
   "source": [
    "## Data types"
   ]
  },
  {
   "cell_type": "code",
   "execution_count": 1,
   "metadata": {
    "colab": {
     "base_uri": "https://localhost:8080/"
    },
    "executionInfo": {
     "elapsed": 201,
     "status": "ok",
     "timestamp": 1646599532454,
     "user": {
      "displayName": "Joaquin Stawsky",
      "photoUrl": "https://lh3.googleusercontent.com/a/default-user=s64",
      "userId": "17803642845908257379"
     },
     "user_tz": 480
    },
    "id": "Hr3r2WWO2FXB",
    "outputId": "7bb82da4-09a6-4e61-cf80-f252cba7da0c"
   },
   "outputs": [],
   "source": [
    "# The poundsign/hashtag is used for single line comments in python. Only\n",
    "# text to the right of the symbol is considered part of the comment. Comments\n",
    "# are basically just text that Python will ignore when you try and run your code.\n",
    "\n",
    "1, 2, 3, 101, 103827401\n",
    "# Integers (or ints for short) are the natural numbers and their negative\n",
    "# counterparts.\n",
    "\n",
    "-3.14159\n",
    "# Floating-points (or floats for short) are decimal numbers, like pi\n",
    "# or any non-integer.\n",
    "\n",
    "True, False\n",
    "# Booleans are True or False values and, unlike integers or floats, are the\n",
    "# result of logical expressions. More on logical expressions in a later\n",
    "# chapter.\n",
    "\n",
    "\"Words words words\", 'More words!'\n",
    "# Strings are sequences of characters surrounded by quotation marks (\" \") or\n",
    "# apostrophes (' '), both are valid, but do not mix them in a singles string!\n",
    "# For example; \"string\" is perfectly valid, but \"string' is not. The contents\n",
    "# of a string are just interpreted as text and while mathematical operations\n",
    "# cannot be performed on them (like on ints and floats) some symbols used for\n",
    "# math operations can be used on strings for non-obvious operations."
   ]
  },
  {
   "cell_type": "markdown",
   "metadata": {
    "id": "e6H4nYc72FXE"
   },
   "source": [
    "## Basic numerical operators\n",
    "\n",
    "The plus symbol `+` is used for addition on numerical types (ints and floats);\n",
    "this behaves exactly as expected, i.e. `2 + 2 = 4`. The `+` symbol is also used\n",
    "for string concatenation; which allows you to to combine strings consecutively,\n",
    "i.e. `\"Blue \" + \"Balloon\" = \"Blue Balloon\"`. Make special note of the space in\n",
    "`\"Blue Balloon\"`; if there was no space after the word `Blue` in the first string,\n",
    "then the result of that string concatenation would have been `\"BlueBallon\"`\n",
    "instead. In code:"
   ]
  },
  {
   "cell_type": "code",
   "execution_count": 2,
   "metadata": {
    "colab": {
     "base_uri": "https://localhost:8080/"
    },
    "executionInfo": {
     "elapsed": 230,
     "status": "ok",
     "timestamp": 1646599539493,
     "user": {
      "displayName": "Joaquin Stawsky",
      "photoUrl": "https://lh3.googleusercontent.com/a/default-user=s64",
      "userId": "17803642845908257379"
     },
     "user_tz": 480
    },
    "id": "zR_-j26B2FXE",
    "outputId": "d3535c0d-523a-467f-fe65-8670759741dc"
   },
   "outputs": [],
   "source": [
    "1 + 3"
   ]
  },
  {
   "cell_type": "code",
   "execution_count": 3,
   "metadata": {
    "colab": {
     "base_uri": "https://localhost:8080/",
     "height": 35
    },
    "executionInfo": {
     "elapsed": 246,
     "status": "ok",
     "timestamp": 1646599542064,
     "user": {
      "displayName": "Joaquin Stawsky",
      "photoUrl": "https://lh3.googleusercontent.com/a/default-user=s64",
      "userId": "17803642845908257379"
     },
     "user_tz": 480
    },
    "id": "3vX_K8iF2FXF",
    "outputId": "8cb71ca1-5371-4df6-e9a4-64103851a6fe"
   },
   "outputs": [],
   "source": [
    "\"Blue \" + \"Balloon\""
   ]
  },
  {
   "cell_type": "code",
   "execution_count": 4,
   "metadata": {
    "colab": {
     "base_uri": "https://localhost:8080/"
    },
    "executionInfo": {
     "elapsed": 165,
     "status": "ok",
     "timestamp": 1646599553523,
     "user": {
      "displayName": "Joaquin Stawsky",
      "photoUrl": "https://lh3.googleusercontent.com/a/default-user=s64",
      "userId": "17803642845908257379"
     },
     "user_tz": 480
    },
    "id": "6ZgZU6r42FXF",
    "outputId": "cfbb4e6c-1908-4fd7-ebd2-4a4b1b0d0248"
   },
   "outputs": [],
   "source": [
    "1 - 5"
   ]
  },
  {
   "cell_type": "code",
   "execution_count": 5,
   "metadata": {
    "colab": {
     "base_uri": "https://localhost:8080/"
    },
    "executionInfo": {
     "elapsed": 191,
     "status": "ok",
     "timestamp": 1646599554866,
     "user": {
      "displayName": "Joaquin Stawsky",
      "photoUrl": "https://lh3.googleusercontent.com/a/default-user=s64",
      "userId": "17803642845908257379"
     },
     "user_tz": 480
    },
    "id": "h1eSuNNr2FXG",
    "outputId": "00848817-9ea6-46bf-fd7d-8291e6610c8b"
   },
   "outputs": [],
   "source": [
    "1 + -5"
   ]
  },
  {
   "cell_type": "markdown",
   "metadata": {
    "id": "MHTZmmdG2FXH"
   },
   "source": [
    "The asterisk symbol `*` is used for multiplication and exponentiation. One asterisk\n",
    "`*` denotes multiplication: $a \\cdot b =$ `a*b`; while two asterisks `**` denote\n",
    "expontiation: $a^b =$ `a**b`. The asterisk is also used for data structure\n",
    "unpacking, which is a topic we'll get into later. In code:"
   ]
  },
  {
   "cell_type": "code",
   "execution_count": 6,
   "metadata": {
    "colab": {
     "base_uri": "https://localhost:8080/"
    },
    "executionInfo": {
     "elapsed": 228,
     "status": "ok",
     "timestamp": 1646599565620,
     "user": {
      "displayName": "Joaquin Stawsky",
      "photoUrl": "https://lh3.googleusercontent.com/a/default-user=s64",
      "userId": "17803642845908257379"
     },
     "user_tz": 480
    },
    "id": "I1AtGwAN2FXH",
    "outputId": "a86d8d58-7e3f-4ec3-d125-2ca0b53003dd"
   },
   "outputs": [],
   "source": [
    "3*5"
   ]
  },
  {
   "cell_type": "code",
   "execution_count": 7,
   "metadata": {
    "colab": {
     "base_uri": "https://localhost:8080/"
    },
    "executionInfo": {
     "elapsed": 168,
     "status": "ok",
     "timestamp": 1646599567056,
     "user": {
      "displayName": "Joaquin Stawsky",
      "photoUrl": "https://lh3.googleusercontent.com/a/default-user=s64",
      "userId": "17803642845908257379"
     },
     "user_tz": 480
    },
    "id": "sxURGFK72FXI",
    "outputId": "3e874d32-cb66-49af-e8c2-4c3fc725fecb"
   },
   "outputs": [],
   "source": [
    "2**4"
   ]
  },
  {
   "cell_type": "markdown",
   "metadata": {
    "id": "G5NEpUAE4aHJ"
   },
   "source": [
    "The forward slash symbol `/` is used for division and floor division. One forward slash `/` denotes division: $a \\div b =$ `a/b`; while two forward slashs `//` denote floor division: $\\lfloor a/b \\rfloor =$ `a//b`. The forward slash is also used in a function's, or method's, argument list to denote that the parameters appearing before `/` are positional-only: usable only within the function or method.\n",
    "The forward slash can also be found in path names used for accessing files and directories.\n",
    "In code:"
   ]
  },
  {
   "cell_type": "markdown",
   "metadata": {
    "id": "y3WKJ5VlJQR0"
   },
   "source": [
    "**Note:** The forward slash is also used in a function, or method's, argument list to denote that the parameters appearing before `/` are positional-only: referenceable solely when in the correct position. Complementary to positional-only arguments, the asterisk used in an argument list denotes keyword-only arguments, i.e. parameters appearing *after* `*` are keyword-only: accessible only when calling the keyword."
   ]
  },
  {
   "cell_type": "code",
   "execution_count": 8,
   "metadata": {
    "colab": {
     "base_uri": "https://localhost:8080/"
    },
    "executionInfo": {
     "elapsed": 208,
     "status": "ok",
     "timestamp": 1646601388681,
     "user": {
      "displayName": "Joaquin Stawsky",
      "photoUrl": "https://lh3.googleusercontent.com/a/default-user=s64",
      "userId": "17803642845908257379"
     },
     "user_tz": 480
    },
    "id": "53B1WDjd2FXI",
    "outputId": "c394d79d-bffe-4991-bdea-d071e7899261"
   },
   "outputs": [],
   "source": [
    "1/2"
   ]
  },
  {
   "cell_type": "code",
   "execution_count": 9,
   "metadata": {
    "colab": {
     "base_uri": "https://localhost:8080/"
    },
    "executionInfo": {
     "elapsed": 30,
     "status": "ok",
     "timestamp": 1646601388866,
     "user": {
      "displayName": "Joaquin Stawsky",
      "photoUrl": "https://lh3.googleusercontent.com/a/default-user=s64",
      "userId": "17803642845908257379"
     },
     "user_tz": 480
    },
    "id": "cMZT0URX2FXJ",
    "outputId": "fd13d7e1-7950-4380-b1d3-f94c89bb8258"
   },
   "outputs": [],
   "source": [
    "124//6"
   ]
  },
  {
   "cell_type": "code",
   "execution_count": 10,
   "metadata": {
    "colab": {
     "base_uri": "https://localhost:8080/"
    },
    "executionInfo": {
     "elapsed": 158,
     "status": "ok",
     "timestamp": 1646601424474,
     "user": {
      "displayName": "Joaquin Stawsky",
      "photoUrl": "https://lh3.googleusercontent.com/a/default-user=s64",
      "userId": "17803642845908257379"
     },
     "user_tz": 480
    },
    "id": "_xdnCFAS2FXJ",
    "outputId": "433c1a57-9606-4e8a-d1dd-63791957a052"
   },
   "outputs": [],
   "source": [
    "# Adding a decimal point to either integer will result in a decimal solution\n",
    "124.0//6 "
   ]
  },
  {
   "cell_type": "markdown",
   "metadata": {
    "id": "m5OJzEHs2FXK"
   },
   "source": [
    "The percent sign `%` is the modulo operator, which gives you the remainder $r$ of integer division: $a\\ \\%\\ b = r$, where $a,\\ b,\\ r$ are all integers that\n",
    "satisfy $a = bq + r$ for some integer $q$. This means that $a \\equiv r \\mod b$.\n",
    "This may not seem, at first glance, a useful operation; but this makes plenty of\n",
    "other calculations easier, and we'll see more of that later.\n",
    "In code:"
   ]
  },
  {
   "cell_type": "code",
   "execution_count": 11,
   "metadata": {
    "colab": {
     "base_uri": "https://localhost:8080/"
    },
    "executionInfo": {
     "elapsed": 207,
     "status": "ok",
     "timestamp": 1646601826040,
     "user": {
      "displayName": "Joaquin Stawsky",
      "photoUrl": "https://lh3.googleusercontent.com/a/default-user=s64",
      "userId": "17803642845908257379"
     },
     "user_tz": 480
    },
    "id": "6ZUew5j42FXK",
    "outputId": "7d446012-9cd2-4f1a-8639-1ad1404014bf"
   },
   "outputs": [],
   "source": [
    "4%3"
   ]
  },
  {
   "cell_type": "code",
   "execution_count": 12,
   "metadata": {
    "colab": {
     "base_uri": "https://localhost:8080/"
    },
    "executionInfo": {
     "elapsed": 21,
     "status": "ok",
     "timestamp": 1646601388869,
     "user": {
      "displayName": "Joaquin Stawsky",
      "photoUrl": "https://lh3.googleusercontent.com/a/default-user=s64",
      "userId": "17803642845908257379"
     },
     "user_tz": 480
    },
    "id": "W6_zKKN-2FXK",
    "outputId": "444e060a-5b8c-4417-c88e-fc11fc4998ab"
   },
   "outputs": [],
   "source": [
    "37%7"
   ]
  },
  {
   "cell_type": "code",
   "execution_count": 13,
   "metadata": {
    "colab": {
     "base_uri": "https://localhost:8080/"
    },
    "executionInfo": {
     "elapsed": 210,
     "status": "ok",
     "timestamp": 1646601967666,
     "user": {
      "displayName": "Joaquin Stawsky",
      "photoUrl": "https://lh3.googleusercontent.com/a/default-user=s64",
      "userId": "17803642845908257379"
     },
     "user_tz": 480
    },
    "id": "UOOAr-nH2FXL",
    "outputId": "ea69de1b-97a8-4814-8ae3-9e6c6aa70272"
   },
   "outputs": [],
   "source": [
    "128341%41"
   ]
  },
  {
   "cell_type": "markdown",
   "metadata": {
    "id": "Kc4Fq_zN2FXL"
   },
   "source": [
    "The above code blocks may be run by highlighting each (the box that contains all\n",
    "the code) and clicking the `Run` button at the top of the screen, or by entering\n",
    "`Control+Enter` in your keyboard (any `cell` can be run this way). After running\n",
    "the block, you may notice something flagged as `Out` just underneath it. If the\n",
    "values from any operation are not stored or the command to display each operation is not given explicitly, then only the output from the last operation is displayed. If we wanted to have Jupyter Notebooks display the results of each operation in a single block of code, we'll need to use the built-in `print` function."
   ]
  },
  {
   "cell_type": "code",
   "execution_count": 14,
   "metadata": {
    "colab": {
     "base_uri": "https://localhost:8080/"
    },
    "executionInfo": {
     "elapsed": 258,
     "status": "ok",
     "timestamp": 1646602184038,
     "user": {
      "displayName": "Joaquin Stawsky",
      "photoUrl": "https://lh3.googleusercontent.com/a/default-user=s64",
      "userId": "17803642845908257379"
     },
     "user_tz": 480
    },
    "id": "xDy8Cp3Q2FXL",
    "outputId": "ba8dc2c5-2daa-4db9-b773-b31e013ad09b"
   },
   "outputs": [],
   "source": [
    "print(1+4)\n",
    "print(2-3)\n",
    "print(2*4)\n",
    "print(3**5)\n",
    "print(6/4)\n",
    "print(6//4)\n",
    "print(499%4)"
   ]
  },
  {
   "cell_type": "markdown",
   "metadata": {
    "id": "RUcgTPa22FXM"
   },
   "source": [
    "## Prettier Printing\n",
    "To touch on strings and their utility a little more, we'll talk about `f-strings`.\n",
    "`f-strings` allow you to slot new information into a string by using special syntax.\n",
    "String concatenation mentioned above only works between strings, so if we wanted to\n",
    "slot numerical data into a string we would need to convert it first. The `str`\n",
    "function does just that, for example:"
   ]
  },
  {
   "cell_type": "code",
   "execution_count": 15,
   "metadata": {
    "id": "NUv0Tjqj2FXM",
    "outputId": "f5171772-c036-4eb3-bca4-8673b1edba3e"
   },
   "outputs": [],
   "source": [
    "print(\"5 plus 2 is \" + str(5 + 2) + \".\")"
   ]
  },
  {
   "cell_type": "code",
   "execution_count": 16,
   "metadata": {
    "colab": {
     "base_uri": "https://localhost:8080/"
    },
    "executionInfo": {
     "elapsed": 243,
     "status": "ok",
     "timestamp": 1646603213335,
     "user": {
      "displayName": "Joaquin Stawsky",
      "photoUrl": "https://lh3.googleusercontent.com/a/default-user=s64",
      "userId": "17803642845908257379"
     },
     "user_tz": 480
    },
    "id": "R1rx1z90Mu2x",
    "outputId": "3dd55598-d139-4dee-dc05-df4a54a5eda6"
   },
   "outputs": [],
   "source": [
    "print(\"5 plus 2 is \" + \"7\" + \".\")"
   ]
  },
  {
   "cell_type": "markdown",
   "metadata": {
    "id": "b0a4FuhO2FXM"
   },
   "source": [
    "The sort of conversion that `str` does is generally known in programming as casting,\n",
    "more on that later.\n",
    "\n",
    "\n",
    "But with `f-strings`, we don't need to worry about that, and we even get access to\n",
    "other useful features. Let's now print the same thing again, but without casting:"
   ]
  },
  {
   "cell_type": "code",
   "execution_count": 17,
   "metadata": {
    "colab": {
     "base_uri": "https://localhost:8080/"
    },
    "executionInfo": {
     "elapsed": 207,
     "status": "ok",
     "timestamp": 1646603438046,
     "user": {
      "displayName": "Joaquin Stawsky",
      "photoUrl": "https://lh3.googleusercontent.com/a/default-user=s64",
      "userId": "17803642845908257379"
     },
     "user_tz": 480
    },
    "id": "-hRj34x52FXM",
    "outputId": "33d9bbc2-bbac-4f50-87d6-862382402895"
   },
   "outputs": [],
   "source": [
    "print(f\"5 plus 2 is {5 + 2}.\")"
   ]
  },
  {
   "cell_type": "markdown",
   "metadata": {
    "id": "fCH3Lvvi2FXN"
   },
   "source": [
    "The `f` before the first quotation mark indicates that the string will be an\n",
    "`f-string`, and anything between the curly brackets `{ }` will be executed like\n",
    "normal code, converted to a string, and slotted in. In addition to being more\n",
    "straight forward to use, they also support format specification. For example:"
   ]
  },
  {
   "cell_type": "code",
   "execution_count": 18,
   "metadata": {
    "colab": {
     "base_uri": "https://localhost:8080/"
    },
    "executionInfo": {
     "elapsed": 248,
     "status": "ok",
     "timestamp": 1646603442277,
     "user": {
      "displayName": "Joaquin Stawsky",
      "photoUrl": "https://lh3.googleusercontent.com/a/default-user=s64",
      "userId": "17803642845908257379"
     },
     "user_tz": 480
    },
    "id": "TliEgUxe2FXN",
    "outputId": "c8fa6e31-1f2a-47da-a7e0-eda1d995f673"
   },
   "outputs": [],
   "source": [
    "print(f\"{1/3} is approximately one third!\")"
   ]
  },
  {
   "cell_type": "code",
   "execution_count": 19,
   "metadata": {
    "colab": {
     "base_uri": "https://localhost:8080/"
    },
    "executionInfo": {
     "elapsed": 207,
     "status": "ok",
     "timestamp": 1646603446231,
     "user": {
      "displayName": "Joaquin Stawsky",
      "photoUrl": "https://lh3.googleusercontent.com/a/default-user=s64",
      "userId": "17803642845908257379"
     },
     "user_tz": 480
    },
    "id": "0VmE8IHm2FXN",
    "outputId": "805a9edc-005a-4891-a885-5bee0e8b9008"
   },
   "outputs": [],
   "source": [
    "print(f\"{1/3:3.2f} is approximately one third!\")"
   ]
  },
  {
   "cell_type": "markdown",
   "metadata": {
    "id": "lgSJ7xdn2FXN"
   },
   "source": [
    "Format specification, which does exactly what the name implies, allows you to\n",
    "specify the way that some type of information will be represented when\n",
    "converting to a string. A table of some simple examples are shown below, underscores in the **Example** text outputs are meant to represent spaces. \n",
    "The sets of characters are to be inserted after the `:` in the curly brackets. \n",
    "### Consider using the phrasing below instead?\n",
    "The **Use** specifiers are to be inserted as the last character within the curly brackets."
   ]
  },
  {
   "cell_type": "markdown",
   "metadata": {
    "id": "ZF_L7Kl92FXO"
   },
   "source": [
    "| Symbol | Use | Example | Notes |\n",
    "|:-:|:-:|:-:|:-:|\n",
    "|`'n.m'f`|floating-point specifier|`f\"{1/6:.4f}\"` $\\to$ `\"0.1667\"`|`n`: spaces allocated, `m`: decimal digits|\n",
    "|`'n.m'e`|scientific notation specifier|`f\"{5**6:6.4e}\"` $\\to$ `\"1.5625e+04\"`|`n`: spaces allocated, `m`: decimal digits|\n",
    "|`'n'd`|integer specifier|`f\"{37:5d}\"` $\\to$ `\"___37\"`|`n`: spaces allocated, right-aligned|\n",
    "|`'n's`|string specifier|`f\"{'Integration':15s}\"` $\\to$ `\"Integration____\"`|`n`: spaces allocated, left-aligned|\n",
    "|`'n'c`|character specifier|`f\"{65:c}\"` $\\to$ `\"A\"`|`n`: spaces allocated, ASCII conversion|"
   ]
  },
  {
   "cell_type": "code",
   "execution_count": 20,
   "metadata": {
    "colab": {
     "base_uri": "https://localhost:8080/"
    },
    "executionInfo": {
     "elapsed": 230,
     "status": "ok",
     "timestamp": 1646693356044,
     "user": {
      "displayName": "Joaquin Stawsky",
      "photoUrl": "https://lh3.googleusercontent.com/a/default-user=s64",
      "userId": "17803642845908257379"
     },
     "user_tz": 480
    },
    "id": "tr2oqEzM2FXO",
    "outputId": "f2e51198-bd15-42e9-b43f-5510dd1779e9"
   },
   "outputs": [],
   "source": [
    "print(f\"{1/6:.4f}\")\n",
    "print(f\"{5**6:6.4e}\")\n",
    "print(f\"'{37:5d}'\")\n",
    "print(f\"'{'Integration':15s}'\")\n",
    "print(f\"{65:c}\")"
   ]
  },
  {
   "cell_type": "markdown",
   "metadata": {
    "id": "BNOrUQi3RLeE"
   },
   "source": [
    "**Note:** American Standard Code for Information Interchange (ASCII) Conversions will output a character value when given that character's designated numerical value. In the example above, the character `A` was the result when referecing it's numerical value `65`. ASCII conversions are comparable to binary or decimal coversions, although the methods of conversion vary."
   ]
  },
  {
   "cell_type": "markdown",
   "metadata": {
    "id": "HXqDJwyY2FXO"
   },
   "source": [
    "If you want to include the curly brackets `{ }` in an `f-string`, you must add two of them on each side with the 'operative brackets' on the inside."
   ]
  },
  {
   "cell_type": "code",
   "execution_count": 21,
   "metadata": {
    "colab": {
     "base_uri": "https://localhost:8080/"
    },
    "executionInfo": {
     "elapsed": 180,
     "status": "ok",
     "timestamp": 1646693356388,
     "user": {
      "displayName": "Joaquin Stawsky",
      "photoUrl": "https://lh3.googleusercontent.com/a/default-user=s64",
      "userId": "17803642845908257379"
     },
     "user_tz": 480
    },
    "id": "ygTDODUc2FXO",
    "outputId": "112eff13-4b91-4785-d813-870269c5c249"
   },
   "outputs": [],
   "source": [
    "print(f\"Curly brackets around a word: {{{'word'}}}\")"
   ]
  },
  {
   "cell_type": "markdown",
   "metadata": {
    "id": "5gCM3UxJ2FXP"
   },
   "source": [
    "## Order of Operations\n",
    "<!-- j -->\n",
    "The order in which operations are executed in a single expression follow the\n",
    "standard rules of mathematics. You may have learned them before as PEMDAS: Parentheses, Exponents, Multiplication and Division (from left to right), Addition and Subtraction (from left to right). \n",
    "For example:"
   ]
  },
  {
   "cell_type": "code",
   "execution_count": 22,
   "metadata": {
    "colab": {
     "base_uri": "https://localhost:8080/"
    },
    "executionInfo": {
     "elapsed": 16,
     "status": "ok",
     "timestamp": 1646693356389,
     "user": {
      "displayName": "Joaquin Stawsky",
      "photoUrl": "https://lh3.googleusercontent.com/a/default-user=s64",
      "userId": "17803642845908257379"
     },
     "user_tz": 480
    },
    "id": "xe_bHs7e2FXP",
    "outputId": "2fa7584a-306d-409a-f948-e2957f73ff48"
   },
   "outputs": [],
   "source": [
    "print(f\"2*3**5 + 1 = {2*3**5 + 1}\")\n",
    "# First the exponentiation is done, then the multiplication, and lastly the\n",
    "# addition.\n",
    "\n",
    "print(f\"(2*(3**5)) + 1 = {(2*(3**5)) + 1}\")\n",
    "# This set of operations is equivalent to the set above, but with the added\n",
    "# parentheses to emphasize the order."
   ]
  },
  {
   "cell_type": "markdown",
   "metadata": {
    "id": "jnDU4rd82FXP"
   },
   "source": [
    "If, instead, we wanted to have the operations executed in a different order; we\n",
    "can use parentheses to group everything, like so:"
   ]
  },
  {
   "cell_type": "code",
   "execution_count": 23,
   "metadata": {
    "colab": {
     "base_uri": "https://localhost:8080/"
    },
    "executionInfo": {
     "elapsed": 14,
     "status": "ok",
     "timestamp": 1646693356390,
     "user": {
      "displayName": "Joaquin Stawsky",
      "photoUrl": "https://lh3.googleusercontent.com/a/default-user=s64",
      "userId": "17803642845908257379"
     },
     "user_tz": 480
    },
    "id": "ECwosETj2FXP",
    "outputId": "f63c912c-89d1-470f-ae1a-ea4cb0aa5a15"
   },
   "outputs": [],
   "source": [
    "print(f\"((2*3)**5) + 1 = {((2*3)**5) + 1}\")"
   ]
  },
  {
   "cell_type": "markdown",
   "metadata": {
    "id": "2GGd0c562FXP"
   },
   "source": [
    "Expressions within parentheses take precedent over everything else, so when in\n",
    "doubt group with $\\left( \\ldots \\right)$!"
   ]
  },
  {
   "cell_type": "markdown",
   "metadata": {
    "id": "rxTtnu6j2FXQ"
   },
   "source": [
    "## Variables\n",
    "If instead of displaying results you wish to store them for later use,\n",
    "you'll need to use the assignment operator: `=`. The `=` symbol takes\n",
    "the value or output of the expression on the right and stores it in\n",
    "the variable on the left. Unlike the operators we've already seen,\n",
    "don't confuse equality in the mathematical sense with what the assignment\n",
    "operator `=` does. For example:"
   ]
  },
  {
   "cell_type": "code",
   "execution_count": 24,
   "metadata": {
    "colab": {
     "base_uri": "https://localhost:8080/"
    },
    "executionInfo": {
     "elapsed": 13,
     "status": "ok",
     "timestamp": 1646693356391,
     "user": {
      "displayName": "Joaquin Stawsky",
      "photoUrl": "https://lh3.googleusercontent.com/a/default-user=s64",
      "userId": "17803642845908257379"
     },
     "user_tz": 480
    },
    "id": "FbPeA60h2FXQ",
    "outputId": "dc19b1d3-1889-42ab-efd3-f7a2dc626b4b"
   },
   "outputs": [],
   "source": [
    "u = 1 + 2\n",
    "# u is a 'variable' that contains the result of the operation 1 + 2, which\n",
    "# is 3.\n",
    "\n",
    "print(u)\n",
    "# When 'print' is used on a variable, the variable contents is what gets\n",
    "# displayed.\n",
    "\n",
    "print(2*u)\n",
    "# Variables can also used in mathematical expressions; again the contents\n",
    "# of the variable is what gets used.\n",
    "\n",
    "v = u**2\n",
    "# You can even use expressions with variables to assign values to other\n",
    "# variables.\n",
    "\n",
    "print(v)\n",
    "# v contains the square of the contents of u. Crucially, this assignment\n",
    "# DOES NOT change the contents of u.\n",
    "\n",
    "u = u + 1\n",
    "# This, however, will change the contents of u. First, the pre-existing\n",
    "# contents of u will have a 1 added to them. Then, u's contents will be\n",
    "# changed to whatever the result of that operation was. In this case,\n",
    "# we've incremented u by 1.\n",
    "\n",
    "print(f\"u = {u}\")\n",
    "# Now we print 'u' to verify that it's value has been changed.\n",
    "# Also note that variables can also be used with f-strings and\n",
    "# that the result of an f-string (or any string) can be stored\n",
    "# in a variable, as well.\n",
    "\n",
    "result = f\"u + v = {u + v}\"\n",
    "print(result)"
   ]
  },
  {
   "cell_type": "markdown",
   "metadata": {
    "id": "DEc2CHiOY8WT"
   },
   "source": [
    "## Data Types\n",
    "<!-- j -->\n",
    "Variables themselves can take many forms called data types. In python, a variable of *text* type is called a string, a *numeric* type can take the form of an integer, float, or complex number, *sequence* types are lists, tuples, or range, a *mapping* type is a dictionary, and a *boolean* type is a bool.\n",
    "Although these are the most common built-in data types, there exist more; some even imported through packages but you'll learn more about that later."
   ]
  },
  {
   "cell_type": "code",
   "execution_count": 25,
   "metadata": {
    "colab": {
     "base_uri": "https://localhost:8080/"
    },
    "executionInfo": {
     "elapsed": 3,
     "status": "ok",
     "timestamp": 1647136000554,
     "user": {
      "displayName": "Joaquin Stawsky",
      "photoUrl": "https://lh3.googleusercontent.com/a/default-user=s64",
      "userId": "17803642845908257379"
     },
     "user_tz": 480
    },
    "id": "JeOc8LUjctJ8",
    "outputId": "95fd810b-16a4-454a-a66f-95fe585430b3"
   },
   "outputs": [
    {
     "name": "stdout",
     "output_type": "stream",
     "text": [
      "Hello World\n",
      "<class 'tuple'>\n"
     ]
    }
   ],
   "source": [
    "a = \"Hello World\" \n",
    "print(a)\n",
    "# Strings are any character(s) with \" \" or ' ' around them.\n",
    "\n",
    "b = 20\n",
    "# An integer is any whole number without the decimal or fraction part.\n",
    "\n",
    "c = 20.5\n",
    "# A float is a floating point number with a whole number and the decimal point.\n",
    "\n",
    "d = 1 + 1j\n",
    "# Complex numbers are composed of two parts: a real and imaginary part. \n",
    "\n",
    "e = [\"apple\", \"banana\", \"orange\"]\n",
    "# A list is an alterable group of elements, denoted by the square brackets [ ]. \n",
    "\n",
    "x = (\"pear\", \"guava\", \"cherry\")\n",
    "# A tuple is an unalterable group of elements, denoted by the parentheses ( ).\n",
    "\n",
    "y = range(6)\n",
    "# Range creates a sequence of numbers defined by a start, end, and an\n",
    "# increment size. If unspecified, the default start point is 0 and default\n",
    "# increment is 1... end point must always be specified.\n",
    "\n",
    "z = {\"name\" : \"John\", \"age\" : 36}\n",
    "# Dictionaries are a collection of key:value pairs, accessible by referencing\n",
    "# either the key or value.\n",
    "\n",
    "print(type(x))\n",
    "# If someone is curious to find a variable's data type,\n",
    "# type(x) outputs the data type of the variable x"
   ]
  },
  {
   "cell_type": "markdown",
   "metadata": {
    "id": "6iEFoH692FXQ"
   },
   "source": [
    "## Functions\n",
    "So far, we've used built-in functions like `str()`, `int()`, and `print()`,\n",
    "these are functions that `python` has defined ahead of time for ubiquitous\n",
    "operations in programming, like casting and printing output. However, we are\n",
    "not limited to pre-existing functions, as you can define functions of your\n",
    "own:"
   ]
  },
  {
   "cell_type": "code",
   "execution_count": 26,
   "metadata": {
    "colab": {
     "base_uri": "https://localhost:8080/"
    },
    "executionInfo": {
     "elapsed": 878,
     "status": "ok",
     "timestamp": 1648595057901,
     "user": {
      "displayName": "Joaquin Stawsky",
      "userId": "17803642845908257379"
     },
     "user_tz": 420
    },
    "id": "N36SIYra2FXQ",
    "outputId": "97a988d7-23cc-402c-9642-cb2c1e64eb7a"
   },
   "outputs": [
    {
     "name": "stdout",
     "output_type": "stream",
     "text": [
      "This is the output for my_function.\n",
      "addThese(1,2): 3\n"
     ]
    }
   ],
   "source": [
    "def my_function():\n",
    "    print(\"This is the output for my_function.\")\n",
    "# The 'def' keyword allows you to define functions, this one is called\n",
    "# 'my_function'. The parentheses here represent what's called the 'parameter\n",
    "# list', it allows you to define how many 'arguments' the function can\n",
    "# accept. In this case, no arguments are needed.\n",
    "\n",
    "my_function()\n",
    "# This is a 'function call' to my_function(). Whenever a function is called,\n",
    "# it will do whatever it is defined to do. All my_function does is print some\n",
    "# text to the output, which should be at the bottom of this cell.\n",
    "\n",
    "def add_these(x,y):\n",
    "    return x + y\n",
    "# This function accepts 2 arguments, adds their contents and then returns\n",
    "# the results. The 'return' keyword is crucial here, because if the function\n",
    "# is meant to have an output, this is how you specify what that output will\n",
    "# be. You may have noticed my_function does not have a return statement, \n",
    "# that's because not all functions need to return a value. The indent between\n",
    "# the name of the function and it's content is necessary for Python to\n",
    "# know what is actually in the function. All blocks of code in python use\n",
    "# indentation to determine the structure that a bit of code belongs to, in\n",
    "# this case the function.\n",
    "                \n",
    "print(f\"addThese(1,2): {add_these(1,2)}\")\n",
    "# Here we call the function, but notice that this is not inside the function\n",
    "# based on the last sentence above."
   ]
  },
  {
   "cell_type": "markdown",
   "metadata": {
    "id": "6fduWeF32FXQ"
   },
   "source": [
    "The example functions I have here may seem pointless and too simple to be\n",
    "useful, and that's exactly true in this case. However, you will find that functions are extremely versatile and there isn't much of a limit to their potential. One important property of functions is that they can easily be reused, examples of which we'll see later."
   ]
  },
  {
   "cell_type": "markdown",
   "metadata": {
    "id": "Qf-RKjYR2FXR"
   },
   "source": [
    "## Loops and Conditionals\n",
    "Sometimes in programming it is necessary to repeat a particular operation\n",
    "multiple times. For example, if we wanted to `print` a message three times\n",
    "using what we know now we would need to do something like what's shown below:"
   ]
  },
  {
   "cell_type": "code",
   "execution_count": 27,
   "metadata": {
    "colab": {
     "base_uri": "https://localhost:8080/"
    },
    "executionInfo": {
     "elapsed": 25,
     "status": "ok",
     "timestamp": 1646693356609,
     "user": {
      "displayName": "Joaquin Stawsky",
      "photoUrl": "https://lh3.googleusercontent.com/a/default-user=s64",
      "userId": "17803642845908257379"
     },
     "user_tz": 480
    },
    "id": "CZLXp-UK2FXR",
    "outputId": "d47ac9cd-10d9-43e4-82fd-7f981e37e3f9"
   },
   "outputs": [
    {
     "name": "stdout",
     "output_type": "stream",
     "text": [
      "Important Message!\n",
      "Important Message!\n",
      "Important Message!\n"
     ]
    }
   ],
   "source": [
    "print(\"Important Message!\")\n",
    "print(\"Important Message!\")\n",
    "print(\"Important Message!\")"
   ]
  },
  {
   "cell_type": "markdown",
   "metadata": {
    "id": "4v4rC1rI2FXR"
   },
   "source": [
    "However, if we instead use a `for loop`, we can do it like this:"
   ]
  },
  {
   "cell_type": "code",
   "execution_count": 28,
   "metadata": {
    "colab": {
     "base_uri": "https://localhost:8080/"
    },
    "executionInfo": {
     "elapsed": 22,
     "status": "ok",
     "timestamp": 1646693356610,
     "user": {
      "displayName": "Joaquin Stawsky",
      "photoUrl": "https://lh3.googleusercontent.com/a/default-user=s64",
      "userId": "17803642845908257379"
     },
     "user_tz": 480
    },
    "id": "qaLdUguN2FXR",
    "outputId": "2e557b54-9a8f-4aee-e8bb-ba1a91b90476"
   },
   "outputs": [
    {
     "name": "stdout",
     "output_type": "stream",
     "text": [
      "Important Message!\n",
      "Important Message!\n",
      "Important Message!\n"
     ]
    }
   ],
   "source": [
    "for i in range(3):\n",
    "    print(\"Important Message!\")\n",
    "# 'range(n)' creates a sequence of integers from 0 to n-1."
   ]
  },
  {
   "cell_type": "markdown",
   "metadata": {
    "id": "iB_linxu2FXR"
   },
   "source": [
    "A `for loop` allows you to do an operation as many times as you tell it to.\n",
    "The loop will compute everything in the indented block, starting from the top and upon reaching the bottom, it will begin again. At this point, `i` will be updated with a new value and the process will repeat until `i` has\n",
    "taken on every value within the specified range. `i` is a commonly used variable to index a `for loop`, but any variable name can be used. One can even use the indexing variable, `i`, in the loop itself. For example, the script\n",
    "below computes the sum of the first $n$ natural numbers."
   ]
  },
  {
   "cell_type": "code",
   "execution_count": 29,
   "metadata": {
    "colab": {
     "base_uri": "https://localhost:8080/"
    },
    "executionInfo": {
     "elapsed": 17,
     "status": "ok",
     "timestamp": 1648594587694,
     "user": {
      "displayName": "Joaquin Stawsky",
      "userId": "17803642845908257379"
     },
     "user_tz": 420
    },
    "id": "Cs8G5u2T2FXR",
    "outputId": "596d19d2-8625-4cf9-febd-0e5944f3d94d"
   },
   "outputs": [
    {
     "name": "stdout",
     "output_type": "stream",
     "text": [
      "The sum of the first 12 natural numbers is 78.\n",
      "That same sum in formula is 78.\n"
     ]
    }
   ],
   "source": [
    "n = 12 # Let n = 12\n",
    "total = 0 \n",
    "# This step is called initializing a variable: creating the \n",
    "# variable named 'total' and giving it an initial value.\n",
    "\n",
    "for i in range(n + 1):\n",
    "    total = total + i\n",
    "# The reason we include a plus 1 in the argument for 'range' is because\n",
    "# if we did not, our values of i would range from 0 to 11 (n = 12 iterations).\n",
    "# Adding by 1 changes the range to 0 to 12; adding 0 within the parentheses\n",
    "# will not change the sum since 0 is the default starting index for Python. \n",
    "\n",
    "print(f\"The sum of the first {n} natural numbers is {total}.\")\n",
    "print(f\"That same sum in formula is {(n*(n+1))//2}.\")"
   ]
  },
  {
   "cell_type": "markdown",
   "metadata": {
    "id": "rDOLrg9q2FXS"
   },
   "source": [
    "In addition to the need to repeat operations, sometimes it is necessary to\n",
    "do two or more different things based on the state of variables in the script.\n",
    "This is where conditional statements come in:"
   ]
  },
  {
   "cell_type": "code",
   "execution_count": 30,
   "metadata": {
    "colab": {
     "base_uri": "https://localhost:8080/"
    },
    "executionInfo": {
     "elapsed": 248,
     "status": "ok",
     "timestamp": 1646694966689,
     "user": {
      "displayName": "Joaquin Stawsky",
      "photoUrl": "https://lh3.googleusercontent.com/a/default-user=s64",
      "userId": "17803642845908257379"
     },
     "user_tz": 480
    },
    "id": "Dh2UAiMf2FXS",
    "outputId": "16a71d7c-22e4-48a2-81a6-1eb1b2cd12ea"
   },
   "outputs": [
    {
     "name": "stdout",
     "output_type": "stream",
     "text": [
      "q is less than 4\n"
     ]
    }
   ],
   "source": [
    "q = 1\n",
    "\n",
    "if q > 4:\n",
    "    print(\"q is greater than 4\")\n",
    "elif q == 4:\n",
    "    print(\"q is equal to 4\")\n",
    "else:\n",
    "    print(\"q is less than 4\")"
   ]
  },
  {
   "cell_type": "markdown",
   "metadata": {
    "id": "PqLALSSr2FXS"
   },
   "source": [
    "Conditionals rely on the results of logical expressions (called booleans)\n",
    "to work. Above we have an `if-elif-else` clause. If the logical expression\n",
    "(the stuff between `if` and `:`) evaluates, the statement beneath is executed instead.\n",
    "\n",
    "Valid logical expressions include:\n",
    "\n",
    "| Symbol | Use | Example |\n",
    "|:-:|:-:|:-:|\n",
    "|`>`|Greater than|`23 > 12` $\\to$ `True`|\n",
    "|`>=`|Greater than or equal to |`6 >= 6` $\\to$ `True`|\n",
    "|`<`|Less than|`4 < -1` $\\to$ `False`|\n",
    "|`<=`|Less than or equal to|`-1 <= 1` $\\to$ `True`|\n",
    "|`==`|Strict equality|`5 == 7` $\\to$ `False`|\n",
    "|`!=`|Strictly not equal|`5 != 7` $\\to$ `True`|\n",
    "\n",
    "\n",
    "Logical expressions can also be joined with `and`, `or`, and `not`.\n",
    "For example:"
   ]
  },
  {
   "cell_type": "code",
   "execution_count": 31,
   "metadata": {
    "colab": {
     "base_uri": "https://localhost:8080/"
    },
    "executionInfo": {
     "elapsed": 172,
     "status": "ok",
     "timestamp": 1646695878633,
     "user": {
      "displayName": "Joaquin Stawsky",
      "photoUrl": "https://lh3.googleusercontent.com/a/default-user=s64",
      "userId": "17803642845908257379"
     },
     "user_tz": 480
    },
    "id": "nFviLTsN2FXS",
    "outputId": "68fe248c-7b02-4433-c675-4e4d96a3f6d3"
   },
   "outputs": [
    {
     "name": "stdout",
     "output_type": "stream",
     "text": [
      "5 is greater than 4 and less than 6: True\n",
      "19 is less than or equal to 17 and greater than 11: False\n",
      "-1 is less than 10 or greater than 1: True\n",
      "The word at the end of this sentence is not 'True': False\n",
      "True: True\n",
      "False: False\n"
     ]
    }
   ],
   "source": [
    "print(f\"5 is greater than 4 and less than 6: {5 > 4 and 5 < 6}\")\n",
    "# When 2 logical expressions are joined with an 'and', then the\n",
    "# conjunction is only True if both individual expressions are True,\n",
    "# otherwise it is False.\n",
    "\n",
    "print(f\"19 is less than or equal to 17 and greater than 11: {17 >= 19 > 11}\")\n",
    "# The previous logical expression containing 'and' basically asks the\n",
    "# question: Is 5 in the interval between 4 and 6? For similar\n",
    "# logical expressions, python allows you to chain inequalities\n",
    "# and achieve the same effect.\n",
    "\n",
    "print(f\"-1 is less than 10 or greater than 1: {-1 < 10 or -1 > 1}\")\n",
    "# When 2 logical expressions are joined with an 'or', then the\n",
    "# conjunction is True if at least one of the individual\n",
    "# expressions are True. In other words, in order for the final output \n",
    "# to be False, both expressions must be False.\n",
    "\n",
    "print(f\"The word at the end of this sentence is not 'True': {not True}\")\n",
    "# 'not' doesn't allow you to join logical expressions with each\n",
    "# other, instead its function is logical negation: something\n",
    "# analogous to how placing a minus sign in front of a number\n",
    "# makes it negative.\n",
    "\n",
    "print(f\"True: {not not True}\")\n",
    "print(f\"False: {not not False}\")\n",
    "# Using 'not' twice, is equivalent to not having applied it all.\n",
    "# Like how multiplying a number by '-1' twice returns you to the\n",
    "# original number."
   ]
  },
  {
   "cell_type": "markdown",
   "metadata": {
    "id": "9PYKopoR2FXT"
   },
   "source": [
    "Now lets combine the `for loop` and an `if-elif-else` statements to write a script that plays a game called Fizz Buzz, the premise of which can be found [here](https://en.wikipedia.org/wiki/Fizz_buzz)."
   ]
  },
  {
   "cell_type": "code",
   "execution_count": 32,
   "metadata": {
    "colab": {
     "base_uri": "https://localhost:8080/"
    },
    "executionInfo": {
     "elapsed": 155,
     "status": "ok",
     "timestamp": 1646696142705,
     "user": {
      "displayName": "Joaquin Stawsky",
      "photoUrl": "https://lh3.googleusercontent.com/a/default-user=s64",
      "userId": "17803642845908257379"
     },
     "user_tz": 480
    },
    "id": "ByfIId032FXT",
    "outputId": "29892265-e89e-4d34-bded-859db709b9dc"
   },
   "outputs": [
    {
     "name": "stdout",
     "output_type": "stream",
     "text": [
      "1\n",
      "2\n",
      "Fizz\n",
      "4\n",
      "Buzz\n",
      "Fizz\n",
      "7\n",
      "8\n",
      "Fizz\n",
      "Buzz\n",
      "11\n",
      "Fizz\n",
      "13\n",
      "14\n",
      "Fizz Buzz\n",
      "16\n",
      "17\n",
      "Fizz\n",
      "19\n",
      "Buzz\n",
      "Fizz\n",
      "22\n",
      "23\n",
      "Fizz\n",
      "Buzz\n",
      "26\n",
      "Fizz\n",
      "28\n",
      "29\n",
      "Fizz Buzz\n"
     ]
    }
   ],
   "source": [
    "m = 30\n",
    "# Unlike previous for loops, the starting point here is specified to be 1.\n",
    "for i in range(1, m+1):\n",
    "    if i % 3 == 0 and i % 5 == 0:\n",
    "        print(\"Fizz Buzz\")\n",
    "    elif i % 3 == 0:\n",
    "        print(\"Fizz\")\n",
    "    elif i % 5 == 0:\n",
    "        print(\"Buzz\")\n",
    "    else:\n",
    "        print(i)"
   ]
  },
  {
   "cell_type": "markdown",
   "metadata": {
    "id": "X6dbu7Uh2FXT"
   },
   "source": [
    "Everything you need to know to understand how this code works has\n",
    "already been covered, so it's my challenge to you to decipher what's\n",
    "happening!"
   ]
  },
  {
   "cell_type": "markdown",
   "metadata": {
    "id": "tZ6sV1c02FXT"
   },
   "source": [
    "## Rudimentary `python` Data Structures\n",
    "`python` has some rather versatile built-in data structures that we can\n",
    "leverage, the first two of which we will contrast: the `tuple` and the\n",
    "`list`."
   ]
  },
  {
   "cell_type": "code",
   "execution_count": 33,
   "metadata": {
    "executionInfo": {
     "elapsed": 215,
     "status": "ok",
     "timestamp": 1648594877743,
     "user": {
      "displayName": "Joaquin Stawsky",
      "userId": "17803642845908257379"
     },
     "user_tz": 420
    },
    "id": "FqxQI0KS2FXT"
   },
   "outputs": [],
   "source": [
    "ordered_triple = (1.2, 4.5, -2.66)\n",
    "# A tuple is created as a sequence of elements separated by commas and\n",
    "# surrounded by parentheses.\n",
    "\n",
    "three_element_list = [1.2, 4.5, -2.66]\n",
    "# A list is created as a sequence of elements separated by commas and\n",
    "# surrounded by square brackets."
   ]
  },
  {
   "cell_type": "markdown",
   "metadata": {
    "id": "YW_d3_NR2FXT"
   },
   "source": [
    "That's one way to create each, but there are others. Let's examine\n",
    "the ways that these structures are similar:\n",
    "\n",
    "### Indexing\n",
    "Indexing (selecting specific elements by position in a structure) is\n",
    "done with the `python` index operator `[ ]`. For example:"
   ]
  },
  {
   "cell_type": "code",
   "execution_count": 34,
   "metadata": {
    "colab": {
     "base_uri": "https://localhost:8080/"
    },
    "executionInfo": {
     "elapsed": 10,
     "status": "ok",
     "timestamp": 1648594913288,
     "user": {
      "displayName": "Joaquin Stawsky",
      "userId": "17803642845908257379"
     },
     "user_tz": 420
    },
    "id": "aFhB5Rsh2FXT",
    "outputId": "ec15e3c7-9c69-4cf1-e036-61d31343b7ef"
   },
   "outputs": [
    {
     "name": "stdout",
     "output_type": "stream",
     "text": [
      "first element of ordered_triple: 1.2\n",
      "last element of ordered_triple: -2.66\n",
      "last element of ordered_triple, again: -2.66\n",
      "\n",
      "first element of three_element_list: 1.2\n",
      "last element of three_element_list: -2.66\n",
      "last element of three_element_list, again: -2.66\n"
     ]
    }
   ],
   "source": [
    "print(f\"first element of ordered_triple: {ordered_triple[0]}\")\n",
    "# To 'index' into a tuple, you need only put an integer index between the\n",
    "# square brackets. Python indexing starts at 0, so the first element is at\n",
    "# index 0.\n",
    "\n",
    "print(f\"last element of ordered_triple: \"\n",
    "      f\"{ordered_triple[len(ordered_triple) - 1]}\")\n",
    "# Since python indexing starts at 0, that means the last element of the\n",
    "# tuple is at index 'length of tuple' - 1, which is what is inside the\n",
    "# index operator above. The `len()` function gives the number of elements\n",
    "# in a data structure.\n",
    "\n",
    "print(f\"last element of ordered_triple, again: {ordered_triple[-1]}\")\n",
    "# However, unlike in other programming language, negative indices are valid.\n",
    "# The way that they are treated is analogous to counting backwards, except \n",
    "# it starts at '-1' and continues until it reaches the full length of \n",
    "# ordered_triple. Therefore, indexing into '-1' also outputs the last element\n",
    "# of the list.\n",
    "\n",
    "print(f\"\\nfirst element of three_element_list: {three_element_list[0]}\")\n",
    "# '\\n' is a command that creates a new line.\n",
    "print(f\"last element of three_element_list: \"\n",
    "      f\"{three_element_list[len(three_element_list) - 1]}\")\n",
    "print(f\"last element of three_element_list, again: {three_element_list[-1]}\")\n",
    "# As you can see, indexing into lists works the same as indexing into tuples."
   ]
  },
  {
   "cell_type": "markdown",
   "metadata": {
    "id": "QXUXELgs2FXU"
   },
   "source": [
    "### Possible Contents\n",
    "Both `lists` and `tuples` can hold just about anything in `python`,\n",
    "and in practically any combination. Example below:"
   ]
  },
  {
   "cell_type": "code",
   "execution_count": 35,
   "metadata": {
    "colab": {
     "base_uri": "https://localhost:8080/"
    },
    "executionInfo": {
     "elapsed": 278,
     "status": "ok",
     "timestamp": 1648595065556,
     "user": {
      "displayName": "Joaquin Stawsky",
      "userId": "17803642845908257379"
     },
     "user_tz": 420
    },
    "id": "E6VjQgGK2FXU",
    "outputId": "9565a6e7-4024-40f0-f042-d0f40b83734f"
   },
   "outputs": [
    {
     "name": "stdout",
     "output_type": "stream",
     "text": [
      "This is the output for my_function.\n",
      "Contents of order_triple: (1.2, 4.5, -2.66)\n",
      "Number of elements in 'many_typed_list': 8\n",
      "once_list_now_tuple:\n",
      "('words', 41, 2.34, <function my_function at 0x00000134166CFF70>, False, True, (1.2, 4.5, -2.66), <built-in function len>)\n",
      "once_tuple_now_list:\n",
      "[1.2, 4.5, -2.66]\n"
     ]
    }
   ],
   "source": [
    "many_typed_list = [\"words\", 41, 2.34, my_function,\n",
    "                   False, True, ordered_triple, len]\n",
    "# many_typed_list is a list that contains a string, an int, a float, a\n",
    "# function handle (the name of the function, which can be accessed from  a list\n",
    "# , booleans, a tuple (lists and tuples can both have lists\n",
    "# and tuples as elements), and a function handle for 'len'.\n",
    "\n",
    "many_typed_list[3]()\n",
    "# Example call of the function at index 3, which calls my_function from\n",
    "# above.\n",
    "\n",
    "print(f\"Contents of order_triple: {many_typed_list[-2]}\")\n",
    "# Printing contents of order_triple through many_typed_list by indexing\n",
    "# to the second to last element with a negative index.\n",
    "\n",
    "print(f\"Number of elements in 'many_typed_list': \"\n",
    "      f\"{many_typed_list[-1](many_typed_list)}\")\n",
    "# Example call of the function (len) at the end of many_typed_list\n",
    "# and using many_typed_list as the argument. This is the same as computing\n",
    "# len(many_typed_list).\n",
    "\n",
    "once_list_now_tuple = tuple(many_typed_list)\n",
    "# These quirks aren't unique to lists. Tuples support them as well.\n",
    "# Here we'll also introduce the built-in 'tuple' function, which creates\n",
    "# a tuple with the contents of the data structure you use as the argument.\n",
    "\n",
    "once_tuple_now_list = list(ordered_triple)\n",
    "# The built-in 'list' function creates a list in the same way.\n",
    "\n",
    "print(f\"once_list_now_tuple:\\n{once_list_now_tuple}\")\n",
    "print(f\"once_tuple_now_list:\\n{once_tuple_now_list}\")"
   ]
  },
  {
   "cell_type": "markdown",
   "metadata": {
    "id": "uqYCWrWV2FXU"
   },
   "source": [
    "### Iterability\n",
    "Much like the `range` object used in `for loops`, `list` and `tuple`\n",
    "elements can be indexed through sequentially. Example below:"
   ]
  },
  {
   "cell_type": "code",
   "execution_count": 36,
   "metadata": {
    "colab": {
     "base_uri": "https://localhost:8080/"
    },
    "executionInfo": {
     "elapsed": 175,
     "status": "ok",
     "timestamp": 1647201970103,
     "user": {
      "displayName": "Joaquin Stawsky",
      "photoUrl": "https://lh3.googleusercontent.com/a/default-user=s64",
      "userId": "17803642845908257379"
     },
     "user_tz": 420
    },
    "id": "qWU-GThp2FXU",
    "outputId": "e40c61cc-d165-4d67-e13e-a8e5d51ca4b6"
   },
   "outputs": [
    {
     "name": "stdout",
     "output_type": "stream",
     "text": [
      "Contents of once_list_now_tuple: \n",
      "   words\n",
      "   41\n",
      "   2.34\n",
      "   <function my_function at 0x00000134166CFF70>\n",
      "   False\n",
      "   True\n",
      "   (1.2, 4.5, -2.66)\n",
      "   <built-in function len>\n",
      "Contents of once_tuple_now_list\n",
      "   1.2\n",
      "   4.5\n",
      "   -2.66\n"
     ]
    }
   ],
   "source": [
    "print(\"Contents of once_list_now_tuple: \")\n",
    "indent = '  ' \n",
    "# Indentation used to visually differentiate between the\n",
    "# tuple/list name from its individual elements.\n",
    "\n",
    "for k in once_list_now_tuple:\n",
    "    print(indent, k)\n",
    "# The above prints the contents of once_list_now_tuple, but as\n",
    "# individual elements. Again, the index variable need not be called 'i'.\n",
    "# Any valid variable name will do.\n",
    "\n",
    "print(\"Contents of once_tuple_now_list\")\n",
    "for thing in once_tuple_now_list:\n",
    "    print(indent, thing)\n",
    "# The above does the same with once_tuple_now_list instead."
   ]
  },
  {
   "cell_type": "markdown",
   "metadata": {
    "id": "olZWkvue2FXU"
   },
   "source": [
    "And now we go over some differences between `lists` and `tuples`.\n",
    "\n",
    "### List Comprehension\n",
    "\n",
    "One of the most useful features that `lists` have is support for `python`\n",
    "generators, which are expressed in list comprehension."
   ]
  },
  {
   "cell_type": "code",
   "execution_count": 37,
   "metadata": {
    "colab": {
     "base_uri": "https://localhost:8080/"
    },
    "executionInfo": {
     "elapsed": 190,
     "status": "ok",
     "timestamp": 1648595537323,
     "user": {
      "displayName": "Joaquin Stawsky",
      "userId": "17803642845908257379"
     },
     "user_tz": 420
    },
    "id": "sTPadEzq2FXV",
    "outputId": "67940970-0c2f-4ed6-b556-f48a8ea471dd"
   },
   "outputs": [
    {
     "name": "stdout",
     "output_type": "stream",
     "text": [
      "comprehended_list:\n",
      "[0, 0, 1, 1, 2, 2, 3, 343, 4, 4, 5, 5, 6, 6, 2744, 7, 8, 8, 9, 9, 10, 9261, 11, 11, 12, 12, 13, 13, 21952, 14, 15, 15, 16, 16, 17, 42875, 18, 18, 19, 19, 20, 20, 74088, 21, 22, 22, 23, 23, 24, 117649, 25, 25, 26, 26, 27, 27, 175616, 28, 29, 29, 30, 30, 31, 250047, 32, 32, 33, 33, 34, 34, 343000, 35, 36, 36, 37, 37, 38, 456533, 39, 39, 40, 40, 41, 41, 592704, 42, 43, 43, 44, 44, 45, 753571, 46, 46, 47, 47, 48, 48, 941192, 49]\n",
      "list_of_tuples:\n",
      "[[('W', 'D'), ('h', 'D'), ('o', 'D'), ('o', 'D'), ('p', 'D'), ('s', 'D'), ('y', 'D')], [('W', 'a'), ('h', 'a'), ('o', 'a'), ('o', 'a'), ('p', 'a'), ('s', 'a'), ('y', 'a')], [('W', 'i'), ('h', 'i'), ('o', 'i'), ('o', 'i'), ('p', 'i'), ('s', 'i'), ('y', 'i')], [('W', 's'), ('h', 's'), ('o', 's'), ('o', 's'), ('p', 's'), ('s', 's'), ('y', 's')], [('W', 'y'), ('h', 'y'), ('o', 'y'), ('o', 'y'), ('p', 'y'), ('s', 'y'), ('y', 'y')]]\n"
     ]
    }
   ],
   "source": [
    "comprehended_list = [i**3 if i % 7 == 0 else i//2 for i in range(100)]\n",
    "# List comprehension works by starting with an iterable (like the\n",
    "# range object of 0 to 99), then the iterable's elements are\n",
    "# checked for a particular quality (as a logical expression) and\n",
    "# based on the result, something will be added to the final list.\n",
    "# The example above adds i**3 to the list if i is a multiple of 7,\n",
    "# and i//2 otherwise.\n",
    "\n",
    "print(f\"comprehended_list:\\n{comprehended_list}\")\n",
    "# Note: '\\n' within the printed f-string is the command to start a \n",
    "# new line in the place where the command appears.\n",
    "\n",
    "list_of_tuples = [[(i, j) for i in 'Whoopsy'] for j in 'Daisy']\n",
    "# List comprehension can also be nested to create 2 dimensional lists.\n",
    "# Note: strings are also iterable.\n",
    "\n",
    "print(f\"list_of_tuples:\\n{list_of_tuples}\")"
   ]
  },
  {
   "cell_type": "markdown",
   "metadata": {
    "id": "TpD7DzwM2FXV"
   },
   "source": [
    "### Mutability\n",
    "\n",
    "The most significant difference between `tuples` and `lists` is that `tuples`\n",
    "are immutable and `lists` are mutable. What does this mean? Think about what a mutation means for the structure of genes... \n",
    "Immutable data structures cannot be changed once created; elements\n",
    "can no longer be added and the existing elements cannot be altered. Take the code below as an example:"
   ]
  },
  {
   "cell_type": "code",
   "execution_count": 38,
   "metadata": {
    "colab": {
     "base_uri": "https://localhost:8080/"
    },
    "executionInfo": {
     "elapsed": 243,
     "status": "ok",
     "timestamp": 1648595598253,
     "user": {
      "displayName": "Joaquin Stawsky",
      "userId": "17803642845908257379"
     },
     "user_tz": 420
    },
    "id": "yYuWUGvr2FXV",
    "outputId": "9f6aff84-34da-487d-99f0-065e80959380"
   },
   "outputs": [
    {
     "name": "stdout",
     "output_type": "stream",
     "text": [
      "three_element_list: [18, 4.5, -2.66, 'Last Place']\n"
     ]
    }
   ],
   "source": [
    "three_element_list[0] = 18\n",
    "three_element_list.append(\"Last Place\")\n",
    "print(f\"three_element_list: {three_element_list}\")\n",
    "# Lists are mutable, which is why we can change the first element to 18,\n",
    "# and add the string \"Last Place\" to the end of the list using the '.append()'\n",
    "# method."
   ]
  },
  {
   "cell_type": "markdown",
   "metadata": {
    "id": "sbLQrhGv2FXV"
   },
   "source": [
    "It is possible to get around this by creating a new `tuple` with different\n",
    "contents and using the same variable name."
   ]
  },
  {
   "cell_type": "code",
   "execution_count": 39,
   "metadata": {
    "colab": {
     "base_uri": "https://localhost:8080/"
    },
    "executionInfo": {
     "elapsed": 237,
     "status": "ok",
     "timestamp": 1648595725437,
     "user": {
      "displayName": "Joaquin Stawsky",
      "userId": "17803642845908257379"
     },
     "user_tz": 420
    },
    "id": "-9XZTxz72FXV",
    "outputId": "a09aaef8-c412-4e71-e1b2-880ce0330a25"
   },
   "outputs": [
    {
     "name": "stdout",
     "output_type": "stream",
     "text": [
      "OLD ordered_triple: (1.2, 4.5, -2.66)\n",
      "NEW ordered_triple: (1.2, 5, -2.66)\n"
     ]
    }
   ],
   "source": [
    "print(f\"OLD ordered_triple: {ordered_triple}\")\n",
    "ordered_triple = (1.2, 5, -2.66)\n",
    "# While you can 'change' a tuple like this, it would be much easier to use \n",
    "# a list.\n",
    "print(f\"NEW ordered_triple: {ordered_triple}\")"
   ]
  },
  {
   "cell_type": "markdown",
   "metadata": {
    "id": "EZj_7d8f2FXV"
   },
   "source": [
    "`lists` are inherently more versatile because of their mutability,\n",
    "so they'll be used throughout these Notebooks more frequently than\n",
    "`tuples`. That being said, there are still applications for which\n",
    "`tuples` are superior, such as in data sets that don't need to be changed."
   ]
  },
  {
   "cell_type": "markdown",
   "metadata": {
    "id": "aeeOsMWV2FXW"
   },
   "source": [
    "## Plotting with `MatPlotLib`\n",
    "Plots in Python can be created easily using the matplotlib package... with some help from the numpy package:"
   ]
  },
  {
   "cell_type": "code",
   "execution_count": 40,
   "metadata": {
    "colab": {
     "base_uri": "https://localhost:8080/",
     "height": 265
    },
    "executionInfo": {
     "elapsed": 1314,
     "status": "ok",
     "timestamp": 1648662107506,
     "user": {
      "displayName": "Joaquin Stawsky",
      "userId": "17803642845908257379"
     },
     "user_tz": 420
    },
    "id": "_EBcpGa82FXW",
    "outputId": "29db5c96-ba35-47e7-ea62-d5259a2611eb"
   },
   "outputs": [
    {
     "data": {
      "image/png": "[encoded data removed]",
      "text/plain": [
       "<Figure size 432x288 with 1 Axes>"
      ]
     },
     "metadata": {
      "needs_background": "light"
     },
     "output_type": "display_data"
    }
   ],
   "source": [
    "import matplotlib.pyplot as plt \n",
    "import numpy as np              \n",
    "# The 'import' keyword is used to include 'packages' (also called 'libraries') \n",
    "# that are not part of the default python library. The 'as' keyword allows us to \n",
    "# rename the imported package for use in our code. If we didn't rename the \n",
    "# import, we would need to reference 'matplotlib' with 'matplotlib.pyplot' every \n",
    "# time. We also import the numpy package, which is going to be an essential tool \n",
    "# in your development as a python programmer.\n",
    "        \n",
    "x = np.linspace(-np.pi, np.pi, 1000) \n",
    "# This creates a 'vector' of 1000 equally-spaced points between -pi and pi.\n",
    "# More on vectors later.\n",
    "    \n",
    "plt.plot(x, np.sin(x), 'k-');\n",
    "# This statement actually plots what we want. The first argument to the function\n",
    "# is a set of x values, the second is a set y values (in this case we are \n",
    "# computing the sine of every point in our 'x' vector), and the last argument is \n",
    "# a what's known as a 'format string'. It tells the function how to draw line \n",
    "# itself. The 'k' indicates that the marker is black, and the '-' makes connects \n",
    "# the markers with lines."
   ]
  },
  {
   "cell_type": "markdown",
   "metadata": {
    "id": "UhlqGBrn2FXW"
   },
   "source": [
    "The plot we have above isn't bad, but we can do better by using more\n",
    "`matplotlib` commands:"
   ]
  },
  {
   "cell_type": "code",
   "execution_count": 41,
   "metadata": {
    "colab": {
     "base_uri": "https://localhost:8080/",
     "height": 495
    },
    "executionInfo": {
     "elapsed": 1223,
     "status": "ok",
     "timestamp": 1648662958802,
     "user": {
      "displayName": "Joaquin Stawsky",
      "userId": "17803642845908257379"
     },
     "user_tz": 420
    },
    "id": "z8_uXzVg7nIq",
    "outputId": "c6e7b279-84f7-44a9-c3b3-0b78d50748f8"
   },
   "outputs": [
    {
     "data": {
      "image/png": "[encoded data removed]",
      "text/plain": [
       "<Figure size 720x540 with 1 Axes>"
      ]
     },
     "metadata": {
      "needs_background": "light"
     },
     "output_type": "display_data"
    }
   ],
   "source": [
    "plt.rcParams['figure.figsize'] = (10, 7.5)\n",
    "plt.rc('font', family='sans-serif')\n",
    "plt.rc('axes', labelsize=15)\n",
    "plt.rc('axes', labelweight='bold')\n",
    "plt.rc('axes', titlesize=18)\n",
    "plt.rc('axes', titleweight='bold')\n",
    "plt.rc('axes', linewidth=2)\n",
    "\n",
    "plt.plot(x, np.sin(x), 'c-', label = 'sine')\n",
    "plt.plot(x, np.cos(x), 'g-', label = 'cosine')\n",
    "plt.legend(loc = 'upper left', fontsize = 15)\n",
    "plt.title('Model Plot')\n",
    "plt.xlabel('x')\n",
    "plt.ylabel('y')\n",
    "plt.grid();"
   ]
  },
  {
   "cell_type": "code",
   "execution_count": 42,
   "metadata": {
    "colab": {
     "base_uri": "https://localhost:8080/",
     "height": 653
    },
    "executionInfo": {
     "elapsed": 1486,
     "status": "ok",
     "timestamp": 1648662343446,
     "user": {
      "displayName": "Joaquin Stawsky",
      "userId": "17803642845908257379"
     },
     "user_tz": 420
    },
    "id": "BDd1twU42FXW",
    "outputId": "af2ecc15-998a-4c0d-e36d-d89bdf3a4c2d"
   },
   "outputs": [
    {
     "data": {
      "image/png": "[encoded data removed]",
      "text/plain": [
       "<Figure size 1152x720 with 1 Axes>"
      ]
     },
     "metadata": {
      "needs_background": "light"
     },
     "output_type": "display_data"
    }
   ],
   "source": [
    "plt.rcParams['figure.figsize'] = (16, 10)\n",
    "# the 'figure' function allows you to set specific attributes pertaining to the\n",
    "# figure. Here we only use the figsize attribute to make the plot bigger. This \n",
    "# plot is now 16 inches wide and 10 inches tall, if printed on a sheet of paper.\n",
    "\n",
    "plt.plot(x, np.sin(x), 'k-', label = \"$\\sin(x)$\", linewidth = 5)\n",
    "plt.plot(x, np.cos(x), 'b-', label = \"$\\cos(x)$\", linewidth = 5)\n",
    "# 'label' allows you to name each curve on the plot, this may be necessary if \n",
    "# you intend to plot more than one curve on your plot. 'linewidth' \n",
    "# intuitively specifies the width of the plotted line/curve (default is 1). \n",
    "# It is also important to note that more than just one 'plt.plot()' function \n",
    "# will contribute to the previous figure and not create a new figure.\n",
    "\n",
    "plt.xlabel(\"$x$\", size = 20)\n",
    "plt.ylabel(\"$y$\", size = 20)\n",
    "# 'xlabel' and 'ylabel' allow you to label the x and y axis, respectively.\n",
    "# 'size' allows you to choose the fontsize for the label.\n",
    "\n",
    "plt.tick_params(labelsize = 20)\n",
    "# 'tick_params' allows you to alter the tick parameters on the axes.\n",
    "# 'labelsize' allows you to set the tick font size.\n",
    "\n",
    "plt.title(\"$\\sin(x)$ and $\\cos(x)$ plotted on $x \\in [-\\pi, \\pi]$\", size = 30)\n",
    "# 'title' allows you to set the title of the whole plot. Jupyter notebooks\n",
    "# support the use of the LaTeX typesetting language within matplotlib plots, \n",
    "# so you may include it between sets of $'s to display proper mathematical \n",
    "# notation. 'size' changes the font size of the 'title'.\n",
    "\n",
    "plt.legend(loc = 'upper left', framealpha = 0, fontsize = 25)\n",
    "# If any of your curves are labeled, 'legend' allows you to have an inset\n",
    "# legend on your plot. 'framealpha' allows you to set the opacity of the\n",
    "# box that legend elements will be shown in, and 'fontsize' allows you to\n",
    "# set the size of the text in the legend.\n",
    "\n",
    "plt.setp(plt.gca().spines.values(), lw = 2)\n",
    "# 'setp' is a function that allows you to set arbitrary parameters of a\n",
    "# matplotlib 'Axes'. There'll be more on 'Axes' later, and also what\n",
    "# 'plt.gca()' means; but in this case, we're setting the width of the\n",
    "# 'spines' of the plot (the lines that make up outermost boundaries of\n",
    "# the plot). 'lw' is short for line width. An alternative way to do this is \n",
    "# given below:\n",
    "\n",
    "for side in ['left', 'top', 'right', 'bottom']:\n",
    "    plt.gca().spines[side].set_linewidth(2)\n",
    "# This method uses a loop and dictionaries. More on both of those later.\n",
    "\n",
    "plt.tick_params(direction = 'in', width = 2, length = 8, labelsize = 20)\n",
    "# 'tick_params' allows you to change how the ticks appear on the plot.\n",
    "# 'direction' lets you choose which side of the 'spine' the tick appears\n",
    "# on, 'width' lets you choose how wide the ticks are (direction parallel\n",
    "# to spines), 'length' lets you modify how long the ticks are (direction\n",
    "# perpendicular to spines), and 'labelsize' lets you choose the font size\n",
    "# for the labels, the numbers next to each tick."
   ]
  },
  {
   "cell_type": "markdown",
   "metadata": {
    "id": "Xnx8X1Ho2FXW"
   },
   "source": [
    "If you look closely, you may notice the functions we needed above were\n",
    "accessed in the manner: `np.\\*`, `plt.\\*`. The `.` member operator allows\n",
    "you to access the `members` of an object. In computer science, Objects are\n",
    "ways of encapsulating different pieces of data (called\n",
    "members) into a single entity: a variable, method, function, or other abstract data type. Without getting too deep into the details, mostly everything is an object in Python and the `.` operator is necessary to access all of an object's members. From here on out, when using functions or modules from a specific package you'll see the `.` operator used frequently."
   ]
  },
  {
   "cell_type": "code",
   "execution_count": 43,
   "metadata": {
    "executionInfo": {
     "elapsed": 198,
     "status": "ok",
     "timestamp": 1648619272926,
     "user": {
      "displayName": "Joaquin Stawsky",
      "userId": "17803642845908257379"
     },
     "user_tz": 420
    },
    "id": "BTtsCUk12FXW"
   },
   "outputs": [],
   "source": [
    "from mpl_toolkits import mplot3d\n",
    "# We import the mplot3d from mpl_toolkits, another python package necessary\n",
    "# for plotting in 3D, such as contour plots.\n",
    "\n",
    "def f(x, y):\n",
    "    return np.sin(-x)*np.exp(-y**2)\n",
    "# We define a function that accepts 2 arguments and returns a single one.\n",
    "# Much like the np.sin and np.cos functions, above we can evaluate this function\n",
    "# over whole sets of x's and y's. More on that when we get to vectors.\n",
    "\n",
    "x = np.linspace(-np.pi, np.pi, 100)\n",
    "y = np.linspace(-1, 1, 100)\n",
    "# We'll use these vectors for the 3d plot below.\n",
    "\n",
    "X, Y = np.meshgrid(x, y)\n",
    "# np.meshgrid creates a structure that associates each point in an x-y plane with\n",
    "# with a set of components that correspond to the coordinates of x and y at that\n",
    "# point.\n",
    "\n",
    "Z = f(X, Y)\n",
    "# Z contains f evaluated at every point in the meshgrid X, Y."
   ]
  },
  {
   "cell_type": "code",
   "execution_count": 44,
   "metadata": {
    "colab": {
     "base_uri": "https://localhost:8080/",
     "height": 738
    },
    "executionInfo": {
     "elapsed": 2459,
     "status": "ok",
     "timestamp": 1648619298675,
     "user": {
      "displayName": "Joaquin Stawsky",
      "userId": "17803642845908257379"
     },
     "user_tz": 420
    },
    "id": "zxpJx4nx2FXX",
    "outputId": "d05aa17f-9163-49f5-fedb-2092387a1b80"
   },
   "outputs": [
    {
     "data": {
      "text/plain": [
       "Text(0.5, 0, 'z')"
      ]
     },
     "execution_count": 44,
     "metadata": {},
     "output_type": "execute_result"
    },
    {
     "data": {
      "image/png": "[encoded data removed]",
      "text/plain": [
       "<Figure size 1152x864 with 1 Axes>"
      ]
     },
     "metadata": {
      "needs_background": "light"
     },
     "output_type": "display_data"
    }
   ],
   "source": [
    "# The code below uses the X, Y, and Z variables from above to create the contour\n",
    "# plot below. Play with the code and see what you can change based on what we've\n",
    "# already seen!\n",
    "plt.figure(figsize=(16,12))\n",
    "ax = plt.axes(projection='3d')\n",
    "ax.contour3D(X, Y, Z, 200, cmap='binary')\n",
    "ax.set_xlabel(\"x\")\n",
    "ax.set_ylabel(\"y\")\n",
    "ax.set_zlabel(\"z\")"
   ]
  },
  {
   "cell_type": "markdown",
   "metadata": {
    "id": "zkpvGHMw2FXX"
   },
   "source": [
    "## Symbolic Calculus using SymPy\n",
    "### Differentiation"
   ]
  },
  {
   "cell_type": "code",
   "execution_count": 45,
   "metadata": {
    "executionInfo": {
     "elapsed": 1149,
     "status": "ok",
     "timestamp": 1648619325856,
     "user": {
      "displayName": "Joaquin Stawsky",
      "userId": "17803642845908257379"
     },
     "user_tz": 420
    },
    "id": "aIX20XzU2FXX"
   },
   "outputs": [],
   "source": [
    "import sympy\n",
    "# The sympy package is used for symbolic operations, like finding derivatives and\n",
    "# indefinite integrals.\n",
    "\n",
    "x, y, z = sympy.symbols('x y z')\n",
    "# sympy.symbols creates a set of 'symbolic' variables, analogous to variables in\n",
    "# the normal calculus sense."
   ]
  },
  {
   "cell_type": "code",
   "execution_count": 46,
   "metadata": {
    "colab": {
     "base_uri": "https://localhost:8080/",
     "height": 51
    },
    "executionInfo": {
     "elapsed": 657,
     "status": "ok",
     "timestamp": 1648619354570,
     "user": {
      "displayName": "Joaquin Stawsky",
      "userId": "17803642845908257379"
     },
     "user_tz": 420
    },
    "id": "SMTA0H9m2FXX",
    "outputId": "d0bcc973-5ba3-4032-82f9-1387701cbc7f"
   },
   "outputs": [
    {
     "data": {
      "text/latex": [
       "$\\displaystyle \\frac{1}{x}$"
      ],
      "text/plain": [
       "1/x"
      ]
     },
     "execution_count": 46,
     "metadata": {},
     "output_type": "execute_result"
    }
   ],
   "source": [
    "sympy.diff(sympy.ln(x), x)\n",
    "# sympy.diff (differential) allows you to compute derivatives. The first argument is the expression\n",
    "# whose derivative you want to find and the second argument is the variable you are\n",
    "# taking the derivative with respect to."
   ]
  },
  {
   "cell_type": "code",
   "execution_count": 47,
   "metadata": {
    "colab": {
     "base_uri": "https://localhost:8080/",
     "height": 41
    },
    "executionInfo": {
     "elapsed": 227,
     "status": "ok",
     "timestamp": 1648619559431,
     "user": {
      "displayName": "Joaquin Stawsky",
      "userId": "17803642845908257379"
     },
     "user_tz": 420
    },
    "id": "FR4a7_xh2FXX",
    "outputId": "18e9fab9-3862-46ab-99ec-c8351cc1b75d"
   },
   "outputs": [
    {
     "data": {
      "text/latex": [
       "$\\displaystyle - 2 e^{\\cos^{2}{\\left(y \\right)}} \\sin{\\left(y \\right)} \\cos{\\left(y \\right)}$"
      ],
      "text/plain": [
       "-2*exp(cos(y)**2)*sin(y)*cos(y)"
      ]
     },
     "execution_count": 47,
     "metadata": {},
     "output_type": "execute_result"
    }
   ],
   "source": [
    "sympy.diff(sympy.exp(sympy.cos(y)**2), y)"
   ]
  },
  {
   "cell_type": "code",
   "execution_count": 48,
   "metadata": {
    "colab": {
     "base_uri": "https://localhost:8080/",
     "height": 60
    },
    "executionInfo": {
     "elapsed": 294,
     "status": "ok",
     "timestamp": 1648619429734,
     "user": {
      "displayName": "Joaquin Stawsky",
      "userId": "17803642845908257379"
     },
     "user_tz": 420
    },
    "id": "BPPVT61D2FXY",
    "outputId": "edd9a3d1-f9d5-491e-e8a8-b4291881919b"
   },
   "outputs": [
    {
     "data": {
      "text/latex": [
       "$\\displaystyle \\frac{3 x y z}{\\left(x^{2} + y^{2} + z^{2}\\right)^{\\frac{5}{2}}}$"
      ],
      "text/plain": [
       "3*x*y*z/(x**2 + y**2 + z**2)**(5/2)"
      ]
     },
     "execution_count": 48,
     "metadata": {},
     "output_type": "execute_result"
    }
   ],
   "source": [
    "r = sympy.sqrt(x**2 + y**2 + z**2)\n",
    "# Once you have symbolic variables, you can create complex expressions and\n",
    "# assign them to other variables.\n",
    "\n",
    "sympy.diff(r, x, y, z)\n",
    "# If you're expression involves multiple variables you can also compute partial\n",
    "# derivatives, even with respect to multiple variables at once. This is equivalent\n",
    "# to taking the partials of r with respect to x, y, and z."
   ]
  },
  {
   "cell_type": "code",
   "execution_count": 49,
   "metadata": {
    "colab": {
     "base_uri": "https://localhost:8080/",
     "height": 57
    },
    "executionInfo": {
     "elapsed": 282,
     "status": "ok",
     "timestamp": 1648619449838,
     "user": {
      "displayName": "Joaquin Stawsky",
      "userId": "17803642845908257379"
     },
     "user_tz": 420
    },
    "id": "6VxfGmFt2FXY",
    "outputId": "3cd67dec-5052-4bf1-96dd-6e6339674743"
   },
   "outputs": [
    {
     "data": {
      "text/latex": [
       "$\\displaystyle \\frac{\\partial^{3}}{\\partial z\\partial y\\partial x} \\sqrt{x^{2} + y^{2} + z^{2}}$"
      ],
      "text/plain": [
       "Derivative(sqrt(x**2 + y**2 + z**2), x, y, z)"
      ]
     },
     "execution_count": 49,
     "metadata": {},
     "output_type": "execute_result"
    }
   ],
   "source": [
    "fPrime = sympy.Derivative(r, x, y, z)\n",
    "# sympy.Derivative gives the symbolic expression before the derivative\n",
    "# is evaluated. Assigning it to a variable allows you to evaluate it later.\n",
    "fPrime"
   ]
  },
  {
   "cell_type": "code",
   "execution_count": 50,
   "metadata": {
    "colab": {
     "base_uri": "https://localhost:8080/",
     "height": 60
    },
    "executionInfo": {
     "elapsed": 199,
     "status": "ok",
     "timestamp": 1648619618997,
     "user": {
      "displayName": "Joaquin Stawsky",
      "userId": "17803642845908257379"
     },
     "user_tz": 420
    },
    "id": "CJMfmFxK2FXY",
    "outputId": "68a61046-d56f-41f2-fb0d-04b300fd98fd"
   },
   "outputs": [
    {
     "data": {
      "text/latex": [
       "$\\displaystyle \\frac{3 x y z}{\\left(x^{2} + y^{2} + z^{2}\\right)^{\\frac{5}{2}}}$"
      ],
      "text/plain": [
       "3*x*y*z/(x**2 + y**2 + z**2)**(5/2)"
      ]
     },
     "execution_count": 50,
     "metadata": {},
     "output_type": "execute_result"
    }
   ],
   "source": [
    "fPrime.doit() \n",
    "# doit allows you to evaluate fPrime."
   ]
  },
  {
   "cell_type": "code",
   "execution_count": 51,
   "metadata": {
    "colab": {
     "base_uri": "https://localhost:8080/",
     "height": 39
    },
    "executionInfo": {
     "elapsed": 213,
     "status": "ok",
     "timestamp": 1648619683974,
     "user": {
      "displayName": "Joaquin Stawsky",
      "userId": "17803642845908257379"
     },
     "user_tz": 420
    },
    "id": "eDZCB1P42FXZ",
    "outputId": "d0e0d1e9-3c34-4fec-b7dd-64ab5003603d"
   },
   "outputs": [
    {
     "data": {
      "text/latex": [
       "$\\displaystyle \\left(x y\\right)^{z} \\log{\\left(x y \\right)}^{2}$"
      ],
      "text/plain": [
       "(x*y)**z*log(x*y)**2"
      ]
     },
     "execution_count": 51,
     "metadata": {},
     "output_type": "execute_result"
    }
   ],
   "source": [
    "f = (x*y)**z\n",
    "f.diff((z, 2))\n",
    "# Calling diff on a saved expression allows you to take higher order derivatives.\n",
    "# For example, this takes the second order derivative of f with respect to z."
   ]
  },
  {
   "cell_type": "code",
   "execution_count": 52,
   "metadata": {
    "colab": {
     "base_uri": "https://localhost:8080/",
     "height": 38
    },
    "executionInfo": {
     "elapsed": 782,
     "status": "ok",
     "timestamp": 1648619851957,
     "user": {
      "displayName": "Joaquin Stawsky",
      "userId": "17803642845908257379"
     },
     "user_tz": 420
    },
    "id": "rz6zFk8b2FXZ",
    "outputId": "69c9bf1a-db56-4a3b-b3a7-e6afafa997b0"
   },
   "outputs": [
    {
     "data": {
      "text/latex": [
       "$\\displaystyle - e^{- x}$"
      ],
      "text/plain": [
       "-exp(-x)"
      ]
     },
     "execution_count": 52,
     "metadata": {},
     "output_type": "execute_result"
    }
   ],
   "source": [
    "expx = sympy.exp(-x)\n",
    "iexpx = sympy.integrate(expx, x)\n",
    "# sympy.integrate allows you to compute the indefinite integral of the expression.\n",
    "# Note: the constant of integration is left off.\n",
    "iexpx"
   ]
  },
  {
   "cell_type": "code",
   "execution_count": 53,
   "metadata": {
    "colab": {
     "base_uri": "https://localhost:8080/",
     "height": 37
    },
    "executionInfo": {
     "elapsed": 932,
     "status": "ok",
     "timestamp": 1648619879868,
     "user": {
      "displayName": "Joaquin Stawsky",
      "userId": "17803642845908257379"
     },
     "user_tz": 420
    },
    "id": "YrSVTv_l2FXZ",
    "outputId": "fd4e6184-4584-4b1f-9dc5-852a668298eb"
   },
   "outputs": [
    {
     "data": {
      "text/latex": [
       "$\\displaystyle 1$"
      ],
      "text/plain": [
       "1"
      ]
     },
     "execution_count": 53,
     "metadata": {},
     "output_type": "execute_result"
    }
   ],
   "source": [
    "sympy.integrate(expx,(x, 0, np.inf))\n",
    "# If the expression has an elementary antiderivative, then including bounds\n",
    "# will compute the definite integral."
   ]
  },
  {
   "cell_type": "code",
   "execution_count": 54,
   "metadata": {
    "colab": {
     "base_uri": "https://localhost:8080/",
     "height": 55
    },
    "executionInfo": {
     "elapsed": 21098,
     "status": "ok",
     "timestamp": 1648619957474,
     "user": {
      "displayName": "Joaquin Stawsky",
      "userId": "17803642845908257379"
     },
     "user_tz": 420
    },
    "id": "rxBNv3Th2FXZ",
    "outputId": "35195129-66de-491f-eb35-1287300af947"
   },
   "outputs": [
    {
     "data": {
      "text/latex": [
       "$\\displaystyle \\int e^{\\cos{\\left(x \\right)}}\\, dx$"
      ],
      "text/plain": [
       "Integral(exp(cos(x)), x)"
      ]
     },
     "execution_count": 54,
     "metadata": {},
     "output_type": "execute_result"
    }
   ],
   "source": [
    "sympy.integrate(sympy.exp(sympy.cos(x)), x)\n",
    "# If the expression does not have an elementary antiderivative, then\n",
    "# you will get back an unevaluated integral. There are ways that can\n",
    "# Python can numerically integrate expressions like this one, but that\n",
    "# is beyond the scope of this chapter."
   ]
  },
  {
   "cell_type": "markdown",
   "metadata": {
    "id": "ZvGTTrWN2FXZ"
   },
   "source": [
    "Checking that the above derivatives and integrals are correct is left as an exercise for the reader."
   ]
  },
  {
   "cell_type": "markdown",
   "metadata": {
    "id": "lpsXGBF-2FXa"
   },
   "source": [
    "## Vectors, Matrices, and Linear Algebra\n",
    "The following sections makes heavy use of the numpy package, due to it's powerful central construct: the numpy n-dimensional array or ndarray.\n",
    "\n",
    "*A small note on vocabulary*: Generally, the word vector is associated with, and analogous to, a 1-dimensional array. In spite of this, most of the things we have to say about vectors also apply to higher dimensional arrays and by that same token it may be the case that the terms 'matrix' and '2-dimensional array' are also interchangeable.\n",
    "### The ndarray"
   ]
  },
  {
   "cell_type": "code",
   "execution_count": 55,
   "metadata": {
    "colab": {
     "base_uri": "https://localhost:8080/"
    },
    "executionInfo": {
     "elapsed": 165,
     "status": "ok",
     "timestamp": 1648620352352,
     "user": {
      "displayName": "Joaquin Stawsky",
      "userId": "17803642845908257379"
     },
     "user_tz": 420
    },
    "id": "Yr6gz2iq2FXa",
    "outputId": "1da04169-7413-4f7a-9572-21d1f29e8c60"
   },
   "outputs": [
    {
     "name": "stdout",
     "output_type": "stream",
     "text": [
      "v: [1 2 3]\n",
      "shape of v: (3,)\n",
      "transpose of v: [1 2 3]\n",
      "new v: [[1 2 3]]\n",
      "shape of new v: (1, 3)\n",
      "transpose of new v:\n",
      "[[1]\n",
      " [2]\n",
      " [3]]\n",
      "m:\n",
      "[[1 2]\n",
      " [3 4]]\n",
      "shape of m: (2, 2)\n",
      "transpose of m:\n",
      "[[1 3]\n",
      " [2 4]]\n"
     ]
    }
   ],
   "source": [
    "v = np.array([1,2,3])\n",
    "# np.array creates a ndarray with the given list as elements. For example,\n",
    "# this creates a row vector that contains the elements [1, 2, 3].\n",
    "print(f\"v: {v}\")\n",
    "\n",
    "print(f\"shape of v: {v.shape}\")\n",
    "# All numpy arrays have a 'shape' attribute that tells you how many dimensions\n",
    "# the array has and how large those dimensions are. In this case, v is a\n",
    "# 1-dimensional array of length 3.\n",
    "\n",
    "print(f\"transpose of v: {np.transpose(v)}\")\n",
    "# np.transpose gives the transpose of the array (or matrix). In this case, the \n",
    "# transpose does nothing because v is a 1-dimensional array.\n",
    "\n",
    "v = np.array([v]) \n",
    "# We create a new v, made of the previous v... yes, weird.\n",
    "print(f\"new v: {v}\")\n",
    "print(f\"shape of new v: {v.shape}\")\n",
    "# However, redefining v in this way turns it into a 2-dimensional array,\n",
    "# where 1 dimension is of length 1 and the other is of length 3; which\n",
    "# is reflected in the new output of v.shape.\n",
    "\n",
    "print(f\"transpose of new v:\\n{np.transpose(v)}\")\n",
    "# Since v is now a 2-dimensional array, we also get the transpose we expect.\n",
    "\n",
    "m = np.array([[1,2],[3,4]])\n",
    "# You can also create 2-dimensional arrays that are analogous to matrices.\n",
    "print(f\"m:\\n{m}\")\n",
    "print(f\"shape of m: {m.shape}\")\n",
    "print(f\"transpose of m:\\n{np.transpose(m)}\")"
   ]
  },
  {
   "cell_type": "markdown",
   "metadata": {
    "id": "VgrCPLLk2FXa"
   },
   "source": [
    "### Accessing Array Elements and Array Slices\n",
    "After defining a vector or matrix, it may be necessary to access specific elements. This is done with the indexing operator [ ]."
   ]
  },
  {
   "cell_type": "code",
   "execution_count": 56,
   "metadata": {
    "colab": {
     "base_uri": "https://localhost:8080/"
    },
    "executionInfo": {
     "elapsed": 188,
     "status": "ok",
     "timestamp": 1648620506567,
     "user": {
      "displayName": "Joaquin Stawsky",
      "userId": "17803642845908257379"
     },
     "user_tz": 420
    },
    "id": "voALflmW2FXa",
    "outputId": "cd77dae1-0a5a-49c0-f153-fb034f8a4ec5"
   },
   "outputs": [
    {
     "name": "stdout",
     "output_type": "stream",
     "text": [
      "d: [ 2  2 -2  1 -2 -5  3  2 -5 -1]\n",
      "first element of d: 2\n",
      "last element of d: -1\n",
      "last element of d: -1\n"
     ]
    }
   ],
   "source": [
    "d = np.random.randint(-5, 5, size=10)\n",
    "# This is a method to generate 10 random integers between -5 and 5.\n",
    "# More on the 'random' module later.\n",
    "print(f\"d: {d}\")\n",
    "\n",
    "print(f\"first element of d: {d[0]}\")\n",
    "print(f\"last element of d: {d[len(d)-1]}\")\n",
    "# Using the indexing operator on an array allows you to access specific\n",
    "# elements of the array, each element has it's own index in the array.\n",
    "# Indexing starts at 0 and ends at the length of the vector minus 1.\n",
    "# Trying to access indices outside of this range for any given array\n",
    "# will cause an error.\n",
    "\n",
    "print(f\"last element of d: {d[-1]}\")\n",
    "# You can also get the last element of the vector by indexing '-1'."
   ]
  },
  {
   "cell_type": "markdown",
   "metadata": {
    "id": "DamDEQv82FXa"
   },
   "source": [
    "You can also access subsets of a vector using array slicing with the\n",
    "indexing operator."
   ]
  },
  {
   "cell_type": "code",
   "execution_count": 57,
   "metadata": {
    "colab": {
     "base_uri": "https://localhost:8080/"
    },
    "executionInfo": {
     "elapsed": 175,
     "status": "ok",
     "timestamp": 1648620667931,
     "user": {
      "displayName": "Joaquin Stawsky",
      "userId": "17803642845908257379"
     },
     "user_tz": 420
    },
    "id": "5Hi6DhNU2FXa",
    "outputId": "2076e191-7a2e-480f-fc0d-c868b49f04eb"
   },
   "outputs": [
    {
     "name": "stdout",
     "output_type": "stream",
     "text": [
      "first three elements of d: [ 2  2 -2]\n",
      "first three elements of d: [ 2  2 -2]\n",
      "last three elements of d: [ 2 -5 -1]\n",
      "all elements of d: [ 2  2 -2  1 -2 -5  3  2 -5 -1]\n",
      "every third element of d: [ 2  1  3 -1]\n",
      "first row of m: [1 2]\n",
      "second column of m: [2 4]\n"
     ]
    }
   ],
   "source": [
    "print(f\"first three elements of d: {d[0:3]}\")\n",
    "print(f\"first three elements of d: {d[ :3]}\")\n",
    "print(f\"last three elements of d: {d[7: ]}\")\n",
    "print(f\"all elements of d: {d[:]}\")\n",
    "print(f\"every third element of d: {d[ : :3]}\")\n",
    "# The ':' symbol allows you to specify a range of indices to\n",
    "# access from the array. Leaving off the first index will access\n",
    "# all elements up to the second index, and leaving off the second\n",
    "# accesses all elements including and after the first. Leaving off\n",
    "# both access the whole array. You can also give a third number to\n",
    "# specify an increment.\n",
    "\n",
    "print(f\"first row of m: {m[0,:]}\")\n",
    "print(f\"second column of m: {m[:,1]}\")\n",
    "# Array indexing and slicing can also be done on matrices, but instead you index\n",
    "# in multiple dimension, like so: matrix[dimension1, dimension2]."
   ]
  },
  {
   "cell_type": "markdown",
   "metadata": {
    "id": "svZcoKj92FXb"
   },
   "source": [
    "### Vectorization\n",
    "One of the powerful tools that the `ndarray` provides is something called\n",
    "vectorization, which allows you to perform mathematical operations on\n",
    "entire vectors as opposed to doing those operations element by element,\n",
    "sequentially."
   ]
  },
  {
   "cell_type": "code",
   "execution_count": 58,
   "metadata": {
    "colab": {
     "base_uri": "https://localhost:8080/"
    },
    "executionInfo": {
     "elapsed": 516,
     "status": "ok",
     "timestamp": 1648620029209,
     "user": {
      "displayName": "Joaquin Stawsky",
      "userId": "17803642845908257379"
     },
     "user_tz": 420
    },
    "id": "MbCYW2uY2FXb",
    "outputId": "01ea6753-13d3-4ac9-c3a4-abad80229acf"
   },
   "outputs": [
    {
     "name": "stdout",
     "output_type": "stream",
     "text": [
      "u + w: [10 12 14 16 18 20 22 24 26 28]\n",
      "u - w: [-10 -10 -10 -10 -10 -10 -10 -10 -10 -10]\n",
      "u*w: [  0  11  24  39  56  75  96 119 144 171]\n",
      "u/w: [0.         0.09090909 0.16666667 0.23076923 0.28571429 0.33333333\n",
      " 0.375      0.41176471 0.44444444 0.47368421]\n",
      "u**w: [          0           1        4096     1594323   268435456   452807053\n",
      "  -683606016 -2094633337           0  -400556711]\n",
      "m1 + m2:\n",
      " [[100 102 104 106 108 110 112 114 116 118]\n",
      " [120 122 124 126 128 130 132 134 136 138]\n",
      " [140 142 144 146 148 150 152 154 156 158]\n",
      " [160 162 164 166 168 170 172 174 176 178]\n",
      " [180 182 184 186 188 190 192 194 196 198]\n",
      " [200 202 204 206 208 210 212 214 216 218]\n",
      " [220 222 224 226 228 230 232 234 236 238]\n",
      " [240 242 244 246 248 250 252 254 256 258]\n",
      " [260 262 264 266 268 270 272 274 276 278]\n",
      " [280 282 284 286 288 290 292 294 296 298]]\n"
     ]
    }
   ],
   "source": [
    "u = np.arange(0,10)\n",
    "w = np.arange(10,20)\n",
    "l = u + w\n",
    "# np.arange creates a sequence of integers from the first argument to the\n",
    "# last, with the last not being included; so u is [0, ..., 9] and w is\n",
    "# [10, ... , 19], they are also 1-dimensional numpy ndarrays. Almost all arrays \n",
    "# that you get from numpy functions are ndarrays.\n",
    "\n",
    "print(f\"u + w: {l}\")\n",
    "# This is a vectorized sum; in other words, every element of u and w that\n",
    "# are in the same position are added together and a new vector is created\n",
    "# from these pairwise additions. Addition is not special in this respect,\n",
    "# though, as subtraction, multiplication, division, and even exponentiation\n",
    "# support vectorization. These are element-wise operations.\n",
    "\n",
    "print(f\"u - w: {u - w}\")\n",
    "print(f\"u*w: {u * w}\")\n",
    "print(f\"u/w: {u / w}\")\n",
    "print(f\"u**w: {u**w}\")\n",
    "\n",
    "m1 = np.arange(0,100).reshape(10,10)\n",
    "m2 = np.arange(100,200).reshape(10,10)\n",
    "# All numpy arrays also have the reshape function, which allows you to turn\n",
    "# a vector into a 2-dimensional array or matrix. Note that the length of the\n",
    "# vector must equal the product of the dimensions of the matrix for reshape\n",
    "# to work properly.\n",
    "\n",
    "print(\"m1 + m2:\\n\", m1 + m2)\n",
    "# In spite of it being called 'vectorization' it also applies to matrices\n",
    "# as well. The key thing to bear in mind with vectorization between ndarrays\n",
    "# is that the 2 ndarrays involved must be of the length for vectors or of\n",
    "# the same dimensions for higher dimensional arrays."
   ]
  },
  {
   "cell_type": "markdown",
   "metadata": {
    "id": "cfr-0M_C2FXb"
   },
   "source": [
    "Vectorization is not just restricted to operations between vectors or matrices, it can used with scalars as well:"
   ]
  },
  {
   "cell_type": "code",
   "execution_count": 59,
   "metadata": {
    "colab": {
     "base_uri": "https://localhost:8080/"
    },
    "executionInfo": {
     "elapsed": 9,
     "status": "ok",
     "timestamp": 1648620029210,
     "user": {
      "displayName": "Joaquin Stawsky",
      "userId": "17803642845908257379"
     },
     "user_tz": 420
    },
    "id": "vcjqBhIV2FXb",
    "outputId": "4cafc41f-ba7a-42e5-b40c-dbf6a011d2d0"
   },
   "outputs": [
    {
     "name": "stdout",
     "output_type": "stream",
     "text": [
      "u: [0 1 2 3 4 5 6 7 8 9]\n",
      "2 + u: [ 2  3  4  5  6  7  8  9 10 11]\n",
      "2 - u: [ 2  1  0 -1 -2 -3 -4 -5 -6 -7]\n",
      "2*u: [ 0  2  4  6  8 10 12 14 16 18]\n",
      "u/2: [0.  0.5 1.  1.5 2.  2.5 3.  3.5 4.  4.5]\n",
      "2**u: [  1   2   4   8  16  32  64 128 256 512]\n"
     ]
    }
   ],
   "source": [
    "print(f\"u: {u}\")\n",
    "print(f\"2 + u: {2 + u}\")\n",
    "# Here we have the u vector from the previous cell, and the vectorized sum\n",
    "# between 2 and u. Unlike sums between vectors, instead 2 is added to each\n",
    "# element of u.\n",
    "\n",
    "print(f\"2 - u: {2 - u}\")\n",
    "print(f\"2*u: {2*u}\")\n",
    "print(f\"u/2: {u/2}\")\n",
    "print(f\"2**u: {2**u}\")"
   ]
  },
  {
   "cell_type": "markdown",
   "metadata": {
    "id": "8jRK7Ii02FXb"
   },
   "source": [
    "Other numpy functions also support vectorization, as we saw during the\n",
    "plotting portion:"
   ]
  },
  {
   "cell_type": "code",
   "execution_count": 60,
   "metadata": {
    "colab": {
     "base_uri": "https://localhost:8080/"
    },
    "executionInfo": {
     "elapsed": 174,
     "status": "ok",
     "timestamp": 1648623913958,
     "user": {
      "displayName": "Joaquin Stawsky",
      "userId": "17803642845908257379"
     },
     "user_tz": 420
    },
    "id": "wxIpqR0-2FXb",
    "outputId": "0074c5f2-5531-45cf-8bf4-714d62c5c4e8"
   },
   "outputs": [
    {
     "name": "stdout",
     "output_type": "stream",
     "text": [
      "e**u:\n",
      "[1.00000000e+00 2.71828183e+00 7.38905610e+00 2.00855369e+01\n",
      " 5.45981500e+01 1.48413159e+02 4.03428793e+02 1.09663316e+03\n",
      " 2.98095799e+03 8.10308393e+03]\n",
      "sin(u):\n",
      "[ 0.          0.84147098  0.90929743  0.14112001 -0.7568025  -0.95892427\n",
      " -0.2794155   0.6569866   0.98935825  0.41211849]\n",
      "cos(u):\n",
      "[ 1.          0.54030231 -0.41614684 -0.9899925  -0.65364362  0.28366219\n",
      "  0.96017029  0.75390225 -0.14550003 -0.91113026]\n",
      "ln(u+1):\n",
      "[0.         0.69314718 1.09861229 1.38629436 1.60943791 1.79175947\n",
      " 1.94591015 2.07944154 2.19722458 2.30258509]\n",
      "cos(pi): -1.0\n"
     ]
    }
   ],
   "source": [
    "print(f\"e**u:\\n{np.exp(u)}\")\n",
    "# The exponential function of u.\n",
    "\n",
    "print(f\"sin(u):\\n{np.sin(u)}\")\n",
    "# Sine of u.\n",
    "\n",
    "print(f\"cos(u):\\n{np.cos(u)}\")\n",
    "# Cosine of u. \n",
    "# Note that for trig functions, the default units for arguments are radians.\n",
    "\n",
    "print(f\"ln(u+1):\\n{np.log(u+1)}\")\n",
    "# The natural logarithm. \n",
    "# Note that log2 and log10 also exist, specifying the different bases.\n",
    "\n",
    "print(f\"cos(pi): {np.cos(np.pi)}\")\n",
    "# Each of these functions support scalar arguments as well.\n",
    "# Note that by scalar, we mean a specific quantity that is defined by its \n",
    "# magnitude. In other words, not a vector or a matrix, just a number."
   ]
  },
  {
   "cell_type": "markdown",
   "metadata": {
    "id": "9wvnRg722FXc"
   },
   "source": [
    "### Matrix Multiplication"
   ]
  },
  {
   "cell_type": "code",
   "execution_count": 61,
   "metadata": {
    "colab": {
     "base_uri": "https://localhost:8080/"
    },
    "executionInfo": {
     "elapsed": 181,
     "status": "ok",
     "timestamp": 1648624279597,
     "user": {
      "displayName": "Joaquin Stawsky",
      "userId": "17803642845908257379"
     },
     "user_tz": 420
    },
    "id": "4cVLmYqO2FXc",
    "outputId": "e1ab8d76-4d55-4388-b449-39bbf33cbac2"
   },
   "outputs": [
    {
     "name": "stdout",
     "output_type": "stream",
     "text": [
      "m1@m2:\n",
      "[[  7350   7395   7440   7485   7530   7575   7620   7665   7710   7755]\n",
      " [ 21850  21995  22140  22285  22430  22575  22720  22865  23010  23155]\n",
      " [ 36350  36595  36840  37085  37330  37575  37820  38065  38310  38555]\n",
      " [ 50850  51195  51540  51885  52230  52575  52920  53265  53610  53955]\n",
      " [ 65350  65795  66240  66685  67130  67575  68020  68465  68910  69355]\n",
      " [ 79850  80395  80940  81485  82030  82575  83120  83665  84210  84755]\n",
      " [ 94350  94995  95640  96285  96930  97575  98220  98865  99510 100155]\n",
      " [108850 109595 110340 111085 111830 112575 113320 114065 114810 115555]\n",
      " [123350 124195 125040 125885 126730 127575 128420 129265 130110 130955]\n",
      " [137850 138795 139740 140685 141630 142575 143520 144465 145410 146355]]\n",
      "m1@m2:\n",
      "[[  7350   7395   7440   7485   7530   7575   7620   7665   7710   7755]\n",
      " [ 21850  21995  22140  22285  22430  22575  22720  22865  23010  23155]\n",
      " [ 36350  36595  36840  37085  37330  37575  37820  38065  38310  38555]\n",
      " [ 50850  51195  51540  51885  52230  52575  52920  53265  53610  53955]\n",
      " [ 65350  65795  66240  66685  67130  67575  68020  68465  68910  69355]\n",
      " [ 79850  80395  80940  81485  82030  82575  83120  83665  84210  84755]\n",
      " [ 94350  94995  95640  96285  96930  97575  98220  98865  99510 100155]\n",
      " [108850 109595 110340 111085 111830 112575 113320 114065 114810 115555]\n",
      " [123350 124195 125040 125885 126730 127575 128420 129265 130110 130955]\n",
      " [137850 138795 139740 140685 141630 142575 143520 144465 145410 146355]]\n",
      "m1@u:\n",
      "[ 285  735 1185 1635 2085 2535 2985 3435 3885 4335]\n",
      "shape of m1: (10, 10)\n",
      "shape of m2: (10, 10)\n",
      "shape of u: (10,)\n"
     ]
    }
   ],
   "source": [
    "print(f\"m1@m2:\\n{m1@m2}\")\n",
    "# Also called the Dot Product, the above is the same as the following.\n",
    "print(f\"m1@m2:\\n{np.dot(m1,m2)}\")\n",
    "print(f\"m1@u:\\n{m1@u}\")\n",
    "# The '@' symbol is used for conventional matrix multiplication. As such, it\n",
    "# follows the definition of matrix multiplication that we find in Linear\n",
    "# Algebra regarding the dimensions of the 2 operands.\n",
    "\n",
    "\n",
    "print(f\"shape of m1: {m1.shape}\")\n",
    "print(f\"shape of m2: {m2.shape}\")\n",
    "print(f\"shape of u: {u.shape}\")\n",
    "# If you're unsure whether a multiplication is possible, check the dimensions\n",
    "# using the shape attribute."
   ]
  },
  {
   "cell_type": "markdown",
   "metadata": {
    "id": "VpYdChUO2FXc"
   },
   "source": [
    "### Linear Algebra\n",
    "In addition to what we've already seen, numpy also has a robust set of\n",
    "linear algebra functions."
   ]
  },
  {
   "cell_type": "code",
   "execution_count": 62,
   "metadata": {
    "colab": {
     "base_uri": "https://localhost:8080/"
    },
    "executionInfo": {
     "elapsed": 191,
     "status": "ok",
     "timestamp": 1648624487987,
     "user": {
      "displayName": "Joaquin Stawsky",
      "userId": "17803642845908257379"
     },
     "user_tz": 420
    },
    "id": "4PLezKf52FXc",
    "outputId": "aab93ad0-a324-4023-cdfa-358f6e931b5b"
   },
   "outputs": [
    {
     "name": "stdout",
     "output_type": "stream",
     "text": [
      "\n",
      "m:\n",
      "[[ 7 -6  7]\n",
      " [-9 -8 -6]\n",
      " [ 5 -4  9]]\n",
      "\n",
      "b: [-6 -2  7]\n",
      "\n",
      "Determinant of m: -445.99999999999966\n",
      "\n",
      "x such that m*x = b: [-2.61883408  1.14125561  2.73991031]\n",
      "\n",
      "Diagonal matrix of b:\n",
      "[[-6  0  0]\n",
      " [ 0 -2  0]\n",
      " [ 0  0  7]]\n",
      "\n",
      "Inverse of m:\n",
      "[[ 0.21524664 -0.05829596 -0.20627803]\n",
      " [-0.11434978 -0.06278027  0.0470852 ]\n",
      " [-0.17040359  0.0044843   0.24663677]]\n",
      "\n",
      "m@mInverse:\n",
      "[[ 1.00000000e+00 -5.03069808e-17  0.00000000e+00]\n",
      " [ 2.77555756e-16  1.00000000e+00  0.00000000e+00]\n",
      " [-1.94289029e-16  7.80625564e-17  1.00000000e+00]]\n",
      "\n",
      "Identity Matrix of dimension 3:\n",
      "[[1. 0. 0.]\n",
      " [0. 1. 0.]\n",
      " [0. 0. 1.]]\n",
      "\n",
      "Eigenvalues of m:\n",
      "[-11.28177908  16.94937633   2.33240275]\n",
      "\n",
      "Eigenvectors of m:\n",
      "[[-0.26671962 -0.6758147  -0.70800679]\n",
      " [-0.95592207  0.39364659  0.22871792]\n",
      " [-0.12277474 -0.62315075  0.66814258]]\n",
      "\n",
      "Left-singular matrix of m:\n",
      "[[-0.58675183 -0.45261233 -0.67146434]\n",
      " [ 0.5628289  -0.82411617  0.06368805]\n",
      " [-0.58219062 -0.34055046  0.73829497]]\n",
      "\n",
      "Singular values of m:\n",
      "[17.59908011 11.04574935  2.29429737]\n",
      "\n",
      "Right-singular matrix of m:\n",
      "[[-0.68660839  0.07651776 -0.72298959]\n",
      " [ 0.23049653  0.96605534 -0.11665514]\n",
      " [-0.68952177  0.24674299  0.68093878]]\n",
      "\n",
      "Dot product of b and (b + 1): 88\n"
     ]
    }
   ],
   "source": [
    "m = np.random.randint(-10, 10, size=(3,3))\n",
    "b = np.random.randint(-10, 10, size=3)\n",
    "# Here we use the random module again to create a matrix and\n",
    "# vector to use the linear algebra functions on.\n",
    "\n",
    "print(f\"\\nm:\\n{m}\")\n",
    "print(f\"\\nb: {b}\")\n",
    "print(f\"\\nDeterminant of m: {np.linalg.det(m)}\")\n",
    "# np.linalg.det computes the determinant of the matrix.\n",
    "\n",
    "print(f\"\\nx such that m*x = b: {np.linalg.solve(m,b)}\")\n",
    "# np.linalg.solve solves the linear system of [m | b].\n",
    "\n",
    "print(f\"\\nDiagonal matrix of b:\\n{np.diag(b)}\")\n",
    "# np.diag creates a diagonal matrix that has the elements of b on\n",
    "# it's diagonal. Note that this function only works on vectors.\n",
    "\n",
    "print(f\"\\nInverse of m:\\n{np.linalg.inv(m)}\")\n",
    "# np.linalg.inv computes the inverse of the matrix. Note that for\n",
    "# singular matrices, this function will have an error.\n",
    "\n",
    "print(f\"\\nm@mInverse:\\n{m@np.linalg.inv(m)}\")\n",
    "# Here we verify that the inverse is the in fact the inverse. The\n",
    "# result may not exactly be the identity due to round off errors.\n",
    "\n",
    "print(f\"\\nIdentity Matrix of dimension 3:\\n{np.identity(3)}\")\n",
    "# np.identity creates an identity matrix of the same dimension as the\n",
    "# integer argument.\n",
    "\n",
    "e, ev = np.linalg.eig(m)\n",
    "print(f\"\\nEigenvalues of m:\\n{e}\")\n",
    "print(f\"\\nEigenvectors of m:\\n{ev}\")\n",
    "# np.linalg.eig computes the eigenvalues and eigenvectors of a matrix.\n",
    "# Each are returned as separate arrays, so we store each in a variable\n",
    "# to display them individually.\n",
    "\n",
    "U, S, V = np.linalg.svd(m)\n",
    "print(f\"\\nLeft-singular matrix of m:\\n{U}\")\n",
    "print(f\"\\nSingular values of m:\\n{S}\")\n",
    "print(f\"\\nRight-singular matrix of m:\\n{V}\")\n",
    "# np.linalg.svd computes the singular value decomposition of a matrix.\n",
    "# Like the previous function, this one returns multiple arrays, so we\n",
    "# store each in it's own variable and display them in turn.\n",
    "\n",
    "print(f\"\\nDot product of b and (b + 1): {np.dot(b,b+1)}\")\n",
    "# np.dot computes the dot product of 2 vectors; alternatively,\n",
    "# the dot product can be computed using normal matrix\n",
    "# multiplication and np.transpose."
   ]
  },
  {
   "cell_type": "markdown",
   "metadata": {
    "id": "jbfT8AmI2FXc"
   },
   "source": [
    "## Statistics with NumPy\n",
    "For statistical purposes, we have some functions built into numpy and we'll use them along with MatPlotLib."
   ]
  },
  {
   "cell_type": "code",
   "execution_count": 63,
   "metadata": {
    "colab": {
     "base_uri": "https://localhost:8080/"
    },
    "executionInfo": {
     "elapsed": 6,
     "status": "ok",
     "timestamp": 1646693375321,
     "user": {
      "displayName": "Joaquin Stawsky",
      "photoUrl": "https://lh3.googleusercontent.com/a/default-user=s64",
      "userId": "17803642845908257379"
     },
     "user_tz": 480
    },
    "id": "TdagNUUf2FXc",
    "outputId": "b50a5229-9d8b-4803-f079-ef0bbde7d701"
   },
   "outputs": [
    {
     "name": "stdout",
     "output_type": "stream",
     "text": [
      "x: [ 0.1847689  -0.57545677  0.08298974 -1.27610769  0.57184799 -0.77372566\n",
      " -0.15291663  1.33268492 -0.63948086 -0.47243482]\n",
      "\n",
      "mean(x): -0.1717830869643542\n",
      "\n",
      "var(x): 0.5062758433058064\n",
      "\n",
      "std(x): 0.7115306341302575\n",
      "\n",
      "median(x): -0.3126757223330282\n",
      "\n",
      "quantiles(x): [-1.27610769 -0.62347484 -0.31267572  0.15932411  1.33268492]\n",
      "\n",
      "min(x): -1.2761076853606792\n",
      "\n",
      "max(x): 1.3326849245348174\n"
     ]
    }
   ],
   "source": [
    "x = np.random.normal(loc=0, scale=1,size=10)\n",
    "# The np.random module allows you to generate random values within a\n",
    "# given probability distribution. In this case, we generate 10 random\n",
    "# values within a normal distribution mean = 0 and standard deviation = 1.\n",
    "# Some function support keyword arguments, which is what we have here.\n",
    "# Instead of passing arguments by position, you can specify by name.\n",
    "\n",
    "print(f\"x: {x}\")\n",
    "\n",
    "print(f\"\\nmean(x): {np.mean(x)}\")\n",
    "# np.mean computes the arithmetic mean of the vector x.\n",
    "\n",
    "print(f\"\\nvar(x): {np.var(x)}\")\n",
    "# np.var computes the variance of the vector x.\n",
    "\n",
    "print(f\"\\nstd(x): {np.std(x)}\")\n",
    "# np.std computes the standard deviation of the vector x.\n",
    "\n",
    "print(f\"\\nmedian(x): {np.median(x)}\")\n",
    "# np.median computes the median of the vector x.\n",
    "\n",
    "print(f\"\\nquantiles(x): {np.quantile(x,[0,.25,.50,.75,1])}\")\n",
    "# np.quantile computes percentiles of a vector x. In\n",
    "# addition to the vector itself, it is necessary to\n",
    "# provide the percentiles either individually, or as\n",
    "# a list. This example return a vector of the quantiles.\n",
    "\n",
    "print(f\"\\nmin(x): {np.min(x)}\")\n",
    "# np.min returns the least value of the vector x.\n",
    "\n",
    "print(f\"\\nmax(x): {np.max(x)}\")\n",
    "# np.max returns the greatest value of the vector x.\n"
   ]
  },
  {
   "cell_type": "markdown",
   "metadata": {
    "id": "PxFyswOD2FXd"
   },
   "source": [
    "The cells below show how we can use `MatPlotLib` for statistical purposes\n",
    "along with normal mathematical plotting."
   ]
  },
  {
   "cell_type": "code",
   "execution_count": 64,
   "metadata": {
    "colab": {
     "base_uri": "https://localhost:8080/",
     "height": 740
    },
    "executionInfo": {
     "elapsed": 478,
     "status": "ok",
     "timestamp": 1646693375794,
     "user": {
      "displayName": "Joaquin Stawsky",
      "photoUrl": "https://lh3.googleusercontent.com/a/default-user=s64",
      "userId": "17803642845908257379"
     },
     "user_tz": 480
    },
    "id": "_QvXk6HD2FXd",
    "outputId": "e4e33094-7b79-466d-ef0c-d8fca712f174"
   },
   "outputs": [
    {
     "data": {
      "image/png": "[encoded data removed]",
      "text/plain": [
       "<Figure size 864x864 with 1 Axes>"
      ]
     },
     "metadata": {
      "needs_background": "light"
     },
     "output_type": "display_data"
    }
   ],
   "source": [
    "plt.figure(figsize=(12,12))\n",
    "plt.boxplot(x)\n",
    "# plt.boxplot creates a box plot of the data.\n",
    "plt.ylabel(\"$x$\", size = 20)\n",
    "plt.title(\"Boxplot of $x$\",size=25)\n",
    "plt.tick_params(length=6, width=2, labelsize=20)"
   ]
  },
  {
   "cell_type": "code",
   "execution_count": 65,
   "metadata": {
    "colab": {
     "base_uri": "https://localhost:8080/",
     "height": 751
    },
    "executionInfo": {
     "elapsed": 552,
     "status": "ok",
     "timestamp": 1646693376340,
     "user": {
      "displayName": "Joaquin Stawsky",
      "photoUrl": "https://lh3.googleusercontent.com/a/default-user=s64",
      "userId": "17803642845908257379"
     },
     "user_tz": 480
    },
    "id": "qMmFVJC22FXd",
    "outputId": "a24ba83b-7412-4777-83af-9889632f78fd"
   },
   "outputs": [
    {
     "data": {
      "text/plain": [
       "Text(0.5, 1.0, 'Histogram')"
      ]
     },
     "execution_count": 65,
     "metadata": {},
     "output_type": "execute_result"
    },
    {
     "data": {
      "image/png": "[encoded data removed]",
      "text/plain": [
       "<Figure size 864x864 with 1 Axes>"
      ]
     },
     "metadata": {
      "needs_background": "light"
     },
     "output_type": "display_data"
    }
   ],
   "source": [
    "w = np.random.normal(size=1000)\n",
    "z = np.random.normal(loc=10, scale=5, size=1000)\n",
    "# Like the definition of x above, here we generate random values.\n",
    "# Functions that support keyword arguments also support default\n",
    "# arguments. What this means is that if some keyword arguments\n",
    "# are left off, a default argument will be used. In the case of\n",
    "# np.random.normal the defaults are loc=0, scale=1.\n",
    "\n",
    "params = {'loc':0, 'scale':1, 'size':1000}\n",
    "w = np.random.normal(**params)\n",
    "# You can also pass keyword arguments using what are called dictionaries.\n",
    "# Basically, a dictionary is a set of 'keys' and 'values' that are associated\n",
    "# with each other; if the 'keys' are the same name as the keyword arguments\n",
    "# of the function you're going to use, then the dictionary can be used as a\n",
    "# single argument for the function, provided that you use the '**' operator.\n",
    "# More on that later.\n",
    "\n",
    "plt.figure(figsize=(12,12))\n",
    "plt.hist(w, bins = 15, range=(np.min(w),np.max(w)), density=True);\n",
    "plt.tick_params(labelsize=20)\n",
    "plt.title(\"Histogram\", size=25)\n",
    "# plt.hist can be used to produce a histogram."
   ]
  },
  {
   "cell_type": "code",
   "execution_count": 66,
   "metadata": {
    "colab": {
     "base_uri": "https://localhost:8080/"
    },
    "executionInfo": {
     "elapsed": 15,
     "status": "ok",
     "timestamp": 1646693376342,
     "user": {
      "displayName": "Joaquin Stawsky",
      "photoUrl": "https://lh3.googleusercontent.com/a/default-user=s64",
      "userId": "17803642845908257379"
     },
     "user_tz": 480
    },
    "id": "NLa3yx_y2FXd",
    "outputId": "b9572d77-7c02-4f83-886c-299bf2c54e38"
   },
   "outputs": [
    {
     "name": "stdout",
     "output_type": "stream",
     "text": [
      "Type of item 0: <class 'int'>\n",
      "Type of item 1: <class 'float'>\n",
      "Type of item 2: <class 'bool'>\n",
      "Type of item 3: <class 'str'>\n",
      "Type of item 4: <class 'tuple'>\n",
      "Type of item 5: <class '_sitebuiltins._Helper'>\n",
      "Type of item 6: <class 'list'>\n"
     ]
    }
   ],
   "source": [
    "var_types = [1, .43, True, \"String\", (2,3), help, [2]]\n",
    "for (i, item) in enumerate(var_types):\n",
    "    print(f\"Type of item {i}: {type(item)}\")\n",
    "# The type function tells you exactly what the argument is. This\n",
    "# can be useful when you're trying to do something very specific\n",
    "# with your code, but you're unsure about the individual components\n",
    "# of it. The help function can even be used on the type of something\n",
    "# for even more relevant information."
   ]
  }
 ],
 "metadata": {
  "colab": {
   "name": "Chapter 2 - Modified by Joaquin.ipynb",
   "provenance": []
  },
  "kernelspec": {
   "display_name": "Python 3",
   "language": "python",
   "name": "python3"
  },
  "language_info": {
   "codemirror_mode": {
    "name": "ipython",
    "version": 3
   },
   "file_extension": ".py",
   "mimetype": "text/x-python",
   "name": "python",
   "nbconvert_exporter": "python",
   "pygments_lexer": "ipython3",
   "version": "3.8.5"
  }
 },
 "nbformat": 4,
 "nbformat_minor": 1
}
